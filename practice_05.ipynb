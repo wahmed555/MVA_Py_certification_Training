{
 "cells": [
  {
   "cell_type": "code",
   "execution_count": 3,
   "metadata": {},
   "outputs": [
    {
     "name": "stdout",
     "output_type": "stream",
     "text": [
      "2019-01-06\n",
      "2019\n",
      "1\n",
      "6\n"
     ]
    }
   ],
   "source": [
    "import datetime\n",
    "currentDate=datetime.date.today()\n",
    "print(currentDate)\n",
    "print(currentDate.year)\n",
    "print(currentDate.month)\n",
    "print(currentDate.day)"
   ]
  },
  {
   "cell_type": "markdown",
   "metadata": {},
   "source": [
    "## A) using String format function strftime"
   ]
  },
  {
   "cell_type": "code",
   "execution_count": 15,
   "metadata": {},
   "outputs": [
    {
     "name": "stdout",
     "output_type": "stream",
     "text": [
      "Sunday, 06 Jan, 2019\n"
     ]
    }
   ],
   "source": [
    "print(currentDate.strftime('%A, %d %b, %Y'))"
   ]
  },
  {
   "cell_type": "code",
   "execution_count": null,
   "metadata": {
    "collapsed": true
   },
   "outputs": [],
   "source": []
  },
  {
   "cell_type": "markdown",
   "metadata": {},
   "source": [
    "## B) Converting a string input from user to date"
   ]
  },
  {
   "cell_type": "code",
   "execution_count": 20,
   "metadata": {},
   "outputs": [
    {
     "name": "stdout",
     "output_type": "stream",
     "text": [
      "Enter the Birthday12/08/1988\n",
      "1988-08-12 00:00:00\n"
     ]
    }
   ],
   "source": [
    "user_BirthDay=input(\"Enter the Birthday\")\n",
    "BrithDate=datetime.datetime.strptime(user_BirthDay,'%d/%m/%Y')\n",
    "print(BrithDate)"
   ]
  },
  {
   "cell_type": "markdown",
   "metadata": {},
   "source": [
    "# Big Event count Down Example"
   ]
  },
  {
   "cell_type": "code",
   "execution_count": 28,
   "metadata": {},
   "outputs": [
    {
     "name": "stdout",
     "output_type": "stream",
     "text": [
      "157 days, 0:00:00\n"
     ]
    }
   ],
   "source": [
    "import datetime\n",
    "\n",
    "currentDate=datetime.date.today() # current date\n",
    " # user input date of  Big Event\n",
    "BigEvent=datetime.datetime.strptime('12/06/2019','%d/%m/%Y').date() # .date() is used to extract only date portion and neglect time\n",
    "difference=BigEvent-currentDate\n",
    "print(difference)"
   ]
  },
  {
   "cell_type": "code",
   "execution_count": 30,
   "metadata": {},
   "outputs": [
    {
     "name": "stdout",
     "output_type": "stream",
     "text": [
      "156 days, 3:48:46.881701\n"
     ]
    }
   ],
   "source": [
    "import datetime\n",
    "\n",
    "currentDate=datetime.datetime.today() # current date and time\n",
    " # user input date of  Big Event\n",
    "BigEvent=datetime.datetime.strptime('12/06/2019','%d/%m/%Y') # .date() is used to extract only date portion and neglect time\n",
    "difference=BigEvent-currentDate\n",
    "print(difference)"
   ]
  },
  {
   "cell_type": "markdown",
   "metadata": {},
   "source": [
    "# working with Time"
   ]
  },
  {
   "cell_type": "code",
   "execution_count": 31,
   "metadata": {},
   "outputs": [
    {
     "name": "stdout",
     "output_type": "stream",
     "text": [
      "2019-01-06 20:12:54.320225\n"
     ]
    }
   ],
   "source": [
    "import datetime\n",
    "\n",
    "currentTime=datetime.datetime.now()\n",
    "print(currentTime)"
   ]
  },
  {
   "cell_type": "code",
   "execution_count": 32,
   "metadata": {},
   "outputs": [
    {
     "name": "stdout",
     "output_type": "stream",
     "text": [
      "2019-01-06 20:13:54.804109\n",
      "20\n",
      "13\n",
      "54\n"
     ]
    }
   ],
   "source": [
    "import datetime\n",
    "\n",
    "currentTime=datetime.datetime.now()\n",
    "print(currentTime)\n",
    "print(currentTime.hour)\n",
    "print(currentTime.minute)\n",
    "print(currentTime.second)"
   ]
  },
  {
   "cell_type": "markdown",
   "metadata": {},
   "source": [
    "## dateutil library\n",
    "\n",
    "If datetime doesn’t have what you need, check out the dateutil library (for example you might want to know the number of years between two dates instead of number of days)\n",
    "\n",
    "\n"
   ]
  },
  {
   "cell_type": "code",
   "execution_count": null,
   "metadata": {
    "collapsed": true
   },
   "outputs": [],
   "source": []
  },
  {
   "cell_type": "markdown",
   "metadata": {},
   "source": [
    "Just like with dates you can use strftime() to format the way a time is displayed\n",
    "\n",
    "import datetime \n",
    "\n",
    "currentTime = datetime.datetime.now() \n",
    "\n",
    "print (datetime.datetime.strftime(currentTime)\n",
    "       \n",
    "%H \tHours (24 hr clock)\n",
    "\n",
    "%I \tHours (12 hr clock)\n",
    "\n",
    "%p \tAM or PM\n",
    "\n",
    "%m \tMinutes\n",
    "\n",
    "%S \tSeconds\n"
   ]
  },
  {
   "cell_type": "code",
   "execution_count": null,
   "metadata": {
    "collapsed": true
   },
   "outputs": [],
   "source": [
    "Ask a user to enter the deadline for their project\n",
    "\n",
    "Tell them how many days they have to complete the project\n",
    "\n",
    "For extra credit, give them the answer as a combination of weeks & days (Hint: you will need some of the math functions from the module on numeric values)\n"
   ]
  },
  {
   "cell_type": "code",
   "execution_count": 35,
   "metadata": {},
   "outputs": [
    {
     "name": "stdout",
     "output_type": "stream",
     "text": [
      "Enter the Deadline19/09/2019\n",
      "You got 256 days, 0:00:00days to complete\n"
     ]
    }
   ],
   "source": [
    "import datetime\n",
    "\n",
    "currentDate=datetime.date.today() # current date\n",
    " # user input date of  Big Event\n",
    "Deadline=input(\"Enter the Deadline\")\n",
    "BigEvent=datetime.datetime.strptime(Deadline,'%d/%m/%Y').date() # .date() is used to extract only date portion and neglect time\n",
    "difference=BigEvent-currentDate\n",
    "print('You got ' +  str(difference) + ' days to complete')"
   ]
  },
  {
   "cell_type": "code",
   "execution_count": null,
   "metadata": {},
   "outputs": [],
   "source": [
    "import datetime\n",
    "\n",
    "currentDate=datetime.date.today() # current date\n",
    " # user input date of  Big Event\n",
    "Deadline=input(\"Enter the Deadline\")\n",
    "BigEvent=datetime.datetime.strptime(Deadline,'%d/%m/%Y').date() # .date() is used to extract only date portion and neglect time\n",
    "difference=BigEvent-currentDate\n",
    "\n",
    "print('You got ' +  str(difference) + ' days to complete')\n",
    "\n",
    "# print(difference.strftime('%A, %d %b, %Y'))\n",
    "\n",
    "# print(datetime.datetime.strftime(difference))\n",
    "\n",
    "weeks=(difference.days)//7\n",
    "\n",
    "dayz=(difference.days)%7\n",
    "\n",
    "print(\"Thats almost : \"+ str(weeks)+ \" Weeks\" +\" & \"+ str(dayz)+ \" days \")"
   ]
  },
  {
   "cell_type": "code",
   "execution_count": null,
   "metadata": {
    "collapsed": true
   },
   "outputs": [],
   "source": []
  }
 ],
 "metadata": {
  "kernelspec": {
   "display_name": "Python 3",
   "language": "python",
   "name": "python3"
  },
  "language_info": {
   "codemirror_mode": {
    "name": "ipython",
    "version": 3
   },
   "file_extension": ".py",
   "mimetype": "text/x-python",
   "name": "python",
   "nbconvert_exporter": "python",
   "pygments_lexer": "ipython3",
   "version": "3.6.3"
  }
 },
 "nbformat": 4,
 "nbformat_minor": 2
}
