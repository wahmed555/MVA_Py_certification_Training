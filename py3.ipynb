{
 "cells": [
  {
   "cell_type": "code",
   "execution_count": 1,
   "metadata": {
    "collapsed": true
   },
   "outputs": [],
   "source": [
    "message='Hellow worlD'"
   ]
  },
  {
   "cell_type": "code",
   "execution_count": 23,
   "metadata": {},
   "outputs": [
    {
     "name": "stdout",
     "output_type": "stream",
     "text": [
      "9\n"
     ]
    }
   ],
   "source": [
    "print(message.find('rlD'))"
   ]
  },
  {
   "cell_type": "code",
   "execution_count": 16,
   "metadata": {},
   "outputs": [
    {
     "name": "stdout",
     "output_type": "stream",
     "text": [
      "1\n"
     ]
    }
   ],
   "source": [
    "print(message.count('H'))"
   ]
  },
  {
   "cell_type": "code",
   "execution_count": 18,
   "metadata": {},
   "outputs": [
    {
     "name": "stdout",
     "output_type": "stream",
     "text": [
      "Hellow world\n"
     ]
    }
   ],
   "source": [
    "print(message.capitalize())"
   ]
  },
  {
   "cell_type": "code",
   "execution_count": 19,
   "metadata": {},
   "outputs": [
    {
     "name": "stdout",
     "output_type": "stream",
     "text": [
      "HELLOW WORLD\n"
     ]
    }
   ],
   "source": [
    "print(message.upper())"
   ]
  },
  {
   "cell_type": "code",
   "execution_count": 20,
   "metadata": {},
   "outputs": [
    {
     "name": "stdout",
     "output_type": "stream",
     "text": [
      "hellow world\n"
     ]
    }
   ],
   "source": [
    "print(message.lower())"
   ]
  },
  {
   "cell_type": "code",
   "execution_count": 21,
   "metadata": {},
   "outputs": [
    {
     "name": "stdout",
     "output_type": "stream",
     "text": [
      "hELLOW WORLd\n"
     ]
    }
   ],
   "source": [
    "print(message.swapcase())"
   ]
  },
  {
   "cell_type": "code",
   "execution_count": 22,
   "metadata": {},
   "outputs": [
    {
     "name": "stdout",
     "output_type": "stream",
     "text": [
      "Hi worlD\n"
     ]
    }
   ],
   "source": [
    "print(message.replace('Hellow','Hi'))"
   ]
  },
  {
   "cell_type": "code",
   "execution_count": 38,
   "metadata": {},
   "outputs": [],
   "source": [
    "story1=\"Shelves: goodreads-giveaways, reviews I have no idea if all of these LAURENS stories were written by the same person, or if they all (or mostly) came from different people... But I do know that approaching it with the latter idea made it a lot more fun to read. Since none of the stories are more than three or four pages even in the Kindle version, it's easy to read. There's plenty of places for you to stop, and stopping is okay as each \\\"page\\\" is a different story.Generally, I liked LAURENS the shorter stories better. They just seemed more \""
   ]
  },
  {
   "cell_type": "code",
   "execution_count": 40,
   "metadata": {},
   "outputs": [
    {
     "name": "stdout",
     "output_type": "stream",
     "text": [
      "Enter the name of new character on heroineTARA\n",
      "Enter the replacement of adjectiveADJECT HIM\n",
      "Shelves: goodreads-giveaways, reviews I have no idea if all of these TARA stories were written by the same person, or if they all (or mostly) came from different people... But I do know that approaching it with the latter idea made it a lot more fun to read. Since none of the stories are more than three or four pages even in the Kindle version, it's easy to read. There's plenty of places for you to stop, and stopping is okay as each \"page\" is a different story.Generally, I liked TARA the shorter stories better. They just seemed more \n",
      "Shelves: goodreads-giveaways, reviews ADJECT HIM have no idea if all of these LAURENS stories were written by the same person, or if they all (or mostly) came from different people... But ADJECT HIM do know that approaching it with the latter idea made it a lot more fun to read. Since none of the stories are more than three or four pages even in the Kindle version, it's easy to read. There's plenty of places for you to stop, and stopping is okay as each \"page\" is a different story.Generally, ADJECT HIM liked LAURENS the shorter stories better. They just seemed more \n"
     ]
    }
   ],
   "source": [
    "k1=input(\"Enter the name of new character on heroine\")\n",
    "a2=input(\"Enter the replacement of adjective\")\n",
    "print(story1.replace('LAURENS',k1))\n",
    "print(story1.replace('I', a2))"
   ]
  },
  {
   "cell_type": "code",
   "execution_count": null,
   "metadata": {
    "collapsed": true
   },
   "outputs": [],
   "source": []
  }
 ],
 "metadata": {
  "kernelspec": {
   "display_name": "Python 3",
   "language": "python",
   "name": "python3"
  },
  "language_info": {
   "codemirror_mode": {
    "name": "ipython",
    "version": 3
   },
   "file_extension": ".py",
   "mimetype": "text/x-python",
   "name": "python",
   "nbconvert_exporter": "python",
   "pygments_lexer": "ipython3",
   "version": "3.6.3"
  }
 },
 "nbformat": 4,
 "nbformat_minor": 2
}
