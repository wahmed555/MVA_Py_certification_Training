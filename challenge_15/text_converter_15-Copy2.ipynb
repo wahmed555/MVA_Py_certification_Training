{
 "cells": [
  {
   "cell_type": "code",
   "execution_count": null,
   "metadata": {},
   "outputs": [],
   "source": []
  },
  {
   "cell_type": "code",
   "execution_count": 16,
   "metadata": {},
   "outputs": [
    {
     "name": "stdout",
     "output_type": "stream",
     "text": [
      "['ROFL means Rolling on floor laughing.']\n",
      "['STFU means Shut the *freak* up.']\n",
      "['LMK means Let me know.']\n",
      "['ILY means I love you.']\n",
      "['YOLO means You only live once.']\n",
      "['SMH means Shaking my head.']\n",
      "['LMFAO means Laughing my freaking *a* off.']\n",
      "['NVM means Never mind.']\n",
      "['IKR means I know', ' right.']\n",
      "['OFC means Of course.']\n",
      "[['ROFL means Rolling on floor laughing.'], ['STFU means Shut the *freak* up.'], ['LMK means Let me know.'], ['ILY means I love you.'], ['YOLO means You only live once.'], ['SMH means Shaking my head.'], ['LMFAO means Laughing my freaking *a* off.'], ['NVM means Never mind.'], ['IKR means I know', ' right.'], ['OFC means Of course.']]\n"
     ]
    }
   ],
   "source": [
    "import csv\n",
    "# 1. you have to open a file in correct mode before you write or read to file\n",
    "fileName='translator.txt'\n",
    "accessMode='r'\n",
    "fss=[]\n",
    "# open myfile\n",
    "with open(fileName,accessMode) as myfile:\n",
    "    allRowList=csv.reader(myfile)\n",
    "    for currentRow in allRowList:\n",
    "        fss.append(currentRow)\n",
    "        print(currentRow)\n",
    "\n",
    "print(fss)"
   ]
  },
  {
   "cell_type": "code",
   "execution_count": 17,
   "metadata": {},
   "outputs": [
    {
     "data": {
      "text/plain": [
       "[['ROFL means Rolling on floor laughing.'],\n",
       " ['STFU means Shut the *freak* up.'],\n",
       " ['LMK means Let me know.'],\n",
       " ['ILY means I love you.'],\n",
       " ['YOLO means You only live once.'],\n",
       " ['SMH means Shaking my head.'],\n",
       " ['LMFAO means Laughing my freaking *a* off.'],\n",
       " ['NVM means Never mind.'],\n",
       " ['IKR means I know', ' right.'],\n",
       " ['OFC means Of course.']]"
      ]
     },
     "execution_count": 17,
     "metadata": {},
     "output_type": "execute_result"
    }
   ],
   "source": [
    "fss"
   ]
  },
  {
   "cell_type": "code",
   "execution_count": 22,
   "metadata": {},
   "outputs": [],
   "source": [
    "nss=[]\n",
    "for fs in fss:\n",
    "    for f in fs:\n",
    "        ns=f.split()\n",
    "    nss.append(ns)\n",
    "    "
   ]
  },
  {
   "cell_type": "code",
   "execution_count": 24,
   "metadata": {},
   "outputs": [
    {
     "data": {
      "text/plain": [
       "[['ROFL', 'means', 'Rolling', 'on', 'floor', 'laughing.'],\n",
       " ['STFU', 'means', 'Shut', 'the', '*freak*', 'up.'],\n",
       " ['LMK', 'means', 'Let', 'me', 'know.'],\n",
       " ['ILY', 'means', 'I', 'love', 'you.'],\n",
       " ['YOLO', 'means', 'You', 'only', 'live', 'once.'],\n",
       " ['SMH', 'means', 'Shaking', 'my', 'head.'],\n",
       " ['LMFAO', 'means', 'Laughing', 'my', 'freaking', '*a*', 'off.'],\n",
       " ['NVM', 'means', 'Never', 'mind.'],\n",
       " ['right.'],\n",
       " ['OFC', 'means', 'Of', 'course.']]"
      ]
     },
     "execution_count": 24,
     "metadata": {},
     "output_type": "execute_result"
    }
   ],
   "source": [
    "nss"
   ]
  },
  {
   "cell_type": "code",
   "execution_count": null,
   "metadata": {},
   "outputs": [],
   "source": []
  },
  {
   "cell_type": "code",
   "execution_count": null,
   "metadata": {},
   "outputs": [],
   "source": []
  },
  {
   "cell_type": "code",
   "execution_count": 5,
   "metadata": {},
   "outputs": [],
   "source": [
    "mss=[['LOL','laughing out loud'],\n",
    "     ['ROFL','Rolling on Floor Laughing']]"
   ]
  },
  {
   "cell_type": "code",
   "execution_count": 1,
   "metadata": {},
   "outputs": [
    {
     "name": "stdout",
     "output_type": "stream",
     "text": [
      "Enter the  the sentence with short forms \n",
      "i am  THe  worst at laughing LOL ROFL\n"
     ]
    }
   ],
   "source": [
    "k=input(\"Enter the  the sentence with short forms \\n\")"
   ]
  },
  {
   "cell_type": "code",
   "execution_count": 131,
   "metadata": {},
   "outputs": [],
   "source": [
    "k=\"So funny LOL\"\n"
   ]
  },
  {
   "cell_type": "code",
   "execution_count": 2,
   "metadata": {},
   "outputs": [],
   "source": [
    "ls=k.split()"
   ]
  },
  {
   "cell_type": "code",
   "execution_count": 3,
   "metadata": {},
   "outputs": [
    {
     "data": {
      "text/plain": [
       "['i', 'am', 'THe', 'worst', 'at', 'laughing', 'LOL', 'ROFL']"
      ]
     },
     "execution_count": 3,
     "metadata": {},
     "output_type": "execute_result"
    }
   ],
   "source": [
    "ls"
   ]
  },
  {
   "cell_type": "code",
   "execution_count": 7,
   "metadata": {},
   "outputs": [
    {
     "name": "stdout",
     "output_type": "stream",
     "text": [
      " \n",
      "\n",
      "match not found\n",
      "i is not equal to LOL\n",
      " \n",
      "\n",
      "match not found\n",
      "i is not equal to laughing out loud\n",
      " \n",
      "\n",
      "match not found\n",
      "i is not equal to ROFL\n",
      " \n",
      "\n",
      "match not found\n",
      "i is not equal to Rolling on Floor Laughing\n",
      " \n",
      "\n",
      "match not found\n",
      "am is not equal to LOL\n",
      " \n",
      "\n",
      "match not found\n",
      "am is not equal to laughing out loud\n",
      " \n",
      "\n",
      "match not found\n",
      "am is not equal to ROFL\n",
      " \n",
      "\n",
      "match not found\n",
      "am is not equal to Rolling on Floor Laughing\n",
      " \n",
      "\n",
      "match not found\n",
      "THe is not equal to LOL\n",
      " \n",
      "\n",
      "match not found\n",
      "THe is not equal to laughing out loud\n",
      " \n",
      "\n",
      "match not found\n",
      "THe is not equal to ROFL\n",
      " \n",
      "\n",
      "match not found\n",
      "THe is not equal to Rolling on Floor Laughing\n",
      " \n",
      "\n",
      "match not found\n",
      "worst is not equal to LOL\n",
      " \n",
      "\n",
      "match not found\n",
      "worst is not equal to laughing out loud\n",
      " \n",
      "\n",
      "match not found\n",
      "worst is not equal to ROFL\n",
      " \n",
      "\n",
      "match not found\n",
      "worst is not equal to Rolling on Floor Laughing\n",
      " \n",
      "\n",
      "match not found\n",
      "at is not equal to LOL\n",
      " \n",
      "\n",
      "match not found\n",
      "at is not equal to laughing out loud\n",
      " \n",
      "\n",
      "match not found\n",
      "at is not equal to ROFL\n",
      " \n",
      "\n",
      "match not found\n",
      "at is not equal to Rolling on Floor Laughing\n",
      " \n",
      "\n",
      "match not found\n",
      "laughing is not equal to LOL\n",
      " \n",
      "\n",
      "match not found\n",
      "laughing is not equal to laughing out loud\n",
      " \n",
      "\n",
      "match not found\n",
      "laughing is not equal to ROFL\n",
      " \n",
      "\n",
      "match not found\n",
      "laughing is not equal to Rolling on Floor Laughing\n",
      " \n",
      "\n",
      "match not found\n",
      "laughing out loud is not equal to LOL\n",
      "\n",
      " Match Found WOW!\n",
      "laughing out loud is a soruce match\n",
      "laughing out loud is a  replacement match\n",
      "6\n",
      "\n",
      " In given sentence with acronym \" laughing out loud \" at location 6\n",
      "\n",
      " The acronym \" laughing out loud \" at location 1\n",
      "1\n",
      "\n",
      " already transformed\n",
      " \n",
      "\n",
      "match not found\n",
      "laughing out loud is not equal to ROFL\n",
      " \n",
      "\n",
      "match not found\n",
      "laughing out loud is not equal to Rolling on Floor Laughing\n",
      " \n",
      "\n",
      "match not found\n",
      "Rolling on Floor Laughing is not equal to LOL\n",
      " \n",
      "\n",
      "match not found\n",
      "Rolling on Floor Laughing is not equal to laughing out loud\n",
      " \n",
      "\n",
      "match not found\n",
      "Rolling on Floor Laughing is not equal to ROFL\n",
      "\n",
      " Match Found WOW!\n",
      "Rolling on Floor Laughing is a soruce match\n",
      "Rolling on Floor Laughing is a  replacement match\n",
      "7\n",
      "\n",
      " In given sentence with acronym \" Rolling on Floor Laughing \" at location 7\n",
      "\n",
      " The acronym \" Rolling on Floor Laughing \" at location 1\n",
      "1\n",
      "\n",
      " already transformed\n",
      "['i', 'am', 'THe', 'worst', 'at', 'laughing', 'laughing out loud', 'Rolling on Floor Laughing']\n"
     ]
    },
    {
     "data": {
      "text/plain": [
       "'i am THe worst at laughing laughing out loud Rolling on Floor Laughing'"
      ]
     },
     "execution_count": 7,
     "metadata": {},
     "output_type": "execute_result"
    }
   ],
   "source": [
    "# first looping through words of input sentence \n",
    "for l in ls:\n",
    "#     print(l)\n",
    "    for ms in mss:\n",
    "#         print(ms[1])\n",
    "        for m in ms:\n",
    "#             print(m)\n",
    "            \n",
    "            if l==m:\n",
    "                Acronymfound=True\n",
    "                print(\"\\n Match Found WOW!\")\n",
    "                print(l, \"is a soruce match\")\n",
    "                print(m, \"is a  replacement match\")\n",
    "                print(ls.index(l))\n",
    "                print(\"\\n In given sentence with acronym \\\" \" + ls[ls.index(l)]  + \" \\\" at location \" + str(  ls.index(l)) )\n",
    "                \n",
    "                print(\"\\n The acronym \\\" \" + ms[ms.index(m)]  + \" \\\" at location \" + str(  ms.index(m)) )\n",
    "                print(ms.index(m))\n",
    "                if (ms.index(m)==1):\n",
    "                    print (\"\\n already transformed\")\n",
    "                    break\n",
    "                    \n",
    "                else:    \n",
    "                    print(ms[ms.index(m)+1])\n",
    "\n",
    "                    print(type(ms[ms.index(m)+1]))\n",
    "    #                 ls[ls.index(l)]=ms[ms.index(m)+1]\n",
    "                    (ls[ls.index(l)])=(ms[ms.index(m)+1])\n",
    "\n",
    "                    print(l) \n",
    "                    print(m)\n",
    "            \n",
    "            else:\n",
    "                print(\" \\n\\nmatch not found\")\n",
    "                print( l + \" is not equal to \" + m)\n",
    "print(ls)\n",
    "\n",
    "outSentence=' '.join(ls)\n",
    "outSentence"
   ]
  },
  {
   "cell_type": "code",
   "execution_count": null,
   "metadata": {},
   "outputs": [],
   "source": []
  },
  {
   "cell_type": "code",
   "execution_count": null,
   "metadata": {},
   "outputs": [],
   "source": []
  },
  {
   "cell_type": "code",
   "execution_count": null,
   "metadata": {},
   "outputs": [],
   "source": []
  },
  {
   "cell_type": "code",
   "execution_count": 152,
   "metadata": {},
   "outputs": [
    {
     "name": "stdout",
     "output_type": "stream",
     "text": [
      "['So', 'funny', 'laughing out loud']\n",
      "So funny laughing out loud\n"
     ]
    }
   ],
   "source": [
    "#  input is list ls\n",
    "\n",
    "# first looping through words of input sentence \n",
    "for l in ls:\n",
    "#     print(l)\n",
    "    for ms in mss:\n",
    "#         print(ms[1])\n",
    "        for m in ms:\n",
    "#             print(m)\n",
    "            \n",
    "            if l==m:\n",
    "                Acronymfound=True\n",
    "                print(\"\\n Match Found WOW!\")\n",
    "                print(l, \"is a soruce match\")\n",
    "                print(m, \"is a  replacement match\")\n",
    "                print(ls.index(l))\n",
    "                print(\"\\n In given sentence with acronym \\\" \" + ls[ls.index(l)]  + \" \\\" at location \" + str(  ls.index(l)) )\n",
    "                \n",
    "                print(\"\\n The acronym \\\" \" + ms[ms.index(m)]  + \" \\\" at location \" + str(  ms.index(m)) )\n",
    "                print(ms.index(m))\n",
    "                if (ms.index(m)==1):\n",
    "                    print (\"\\n already transformed\")\n",
    "                    break\n",
    "                    \n",
    "                else:    \n",
    "                    print(ms[ms.index(m)+1])\n",
    "\n",
    "                    print(type(ms[ms.index(m)+1]))\n",
    "    #                 ls[ls.index(l)]=ms[ms.index(m)+1]\n",
    "                    (ls[ls.index(l)])=(ms[ms.index(m)+1])\n",
    "\n",
    "                    print(l) \n",
    "                    print(m)\n",
    "            \n",
    "            else:\n",
    "                break\n",
    "                print(\" \\n\\nmatch not found\")\n",
    "                print( l + \" is not equal to \" + m)\n",
    "#                \n",
    "print(ls)\n",
    "\n",
    "outSentence=' '.join(ls)\n",
    "print(outSentence)"
   ]
  },
  {
   "cell_type": "code",
   "execution_count": 151,
   "metadata": {},
   "outputs": [],
   "source": [
    "outSentence=' '.join(ls)"
   ]
  },
  {
   "cell_type": "code",
   "execution_count": 104,
   "metadata": {},
   "outputs": [
    {
     "data": {
      "text/plain": [
       "'So funny laughing out loud'"
      ]
     },
     "execution_count": 104,
     "metadata": {},
     "output_type": "execute_result"
    }
   ],
   "source": [
    "outSentence"
   ]
  },
  {
   "cell_type": "code",
   "execution_count": null,
   "metadata": {},
   "outputs": [],
   "source": []
  },
  {
   "cell_type": "code",
   "execution_count": 101,
   "metadata": {},
   "outputs": [
    {
     "name": "stdout",
     "output_type": "stream",
     "text": [
      " no match found\n"
     ]
    }
   ],
   "source": []
  },
  {
   "cell_type": "code",
   "execution_count": 71,
   "metadata": {},
   "outputs": [],
   "source": [
    "outSentence=' '.join(ls)"
   ]
  },
  {
   "cell_type": "code",
   "execution_count": 72,
   "metadata": {},
   "outputs": [
    {
     "data": {
      "text/plain": [
       "'So funny laughing out loud'"
      ]
     },
     "execution_count": 72,
     "metadata": {},
     "output_type": "execute_result"
    }
   ],
   "source": [
    "outSentence"
   ]
  },
  {
   "cell_type": "code",
   "execution_count": null,
   "metadata": {},
   "outputs": [],
   "source": []
  }
 ],
 "metadata": {
  "kernelspec": {
   "display_name": "Python 3",
   "language": "python",
   "name": "python3"
  },
  "language_info": {
   "codemirror_mode": {
    "name": "ipython",
    "version": 3
   },
   "file_extension": ".py",
   "mimetype": "text/x-python",
   "name": "python",
   "nbconvert_exporter": "python",
   "pygments_lexer": "ipython3",
   "version": "3.6.5"
  }
 },
 "nbformat": 4,
 "nbformat_minor": 2
}
