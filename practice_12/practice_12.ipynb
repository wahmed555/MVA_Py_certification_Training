{
 "cells": [
  {
   "cell_type": "markdown",
   "metadata": {},
   "source": [
    "### read() Reading the Entire content to a file as one string "
   ]
  },
  {
   "cell_type": "code",
   "execution_count": 13,
   "metadata": {
    "collapsed": true
   },
   "outputs": [],
   "source": [
    "# 1. you have to open a file in correct mode before you write or read to file\n",
    "fileName='tasmania.txt'\n",
    "accessMode='r'\n",
    "file1=open(fileName,accessMode)"
   ]
  },
  {
   "cell_type": "code",
   "execution_count": 14,
   "metadata": {},
   "outputs": [
    {
     "data": {
      "text/plain": [
       "'Tasmania is wild den\\ntiger is endander\\npassu are comman'"
      ]
     },
     "execution_count": 14,
     "metadata": {},
     "output_type": "execute_result"
    }
   ],
   "source": [
    "# 2. perforing a read operation\n",
    "file1.read()"
   ]
  },
  {
   "cell_type": "code",
   "execution_count": 15,
   "metadata": {
    "collapsed": true
   },
   "outputs": [],
   "source": [
    "# 3.closing a file is equally important\n",
    "file1.close()"
   ]
  },
  {
   "cell_type": "code",
   "execution_count": 16,
   "metadata": {},
   "outputs": [
    {
     "name": "stdout",
     "output_type": "stream",
     "text": [
      " file read succesfully \n"
     ]
    }
   ],
   "source": [
    "# 4.printing a success or operation confirmation message is equally important\n",
    "print(\" file read succesfully \")"
   ]
  },
  {
   "cell_type": "markdown",
   "metadata": {},
   "source": [
    "### readline() if you prefer to read line by line espacially from csv files"
   ]
  },
  {
   "cell_type": "code",
   "execution_count": 18,
   "metadata": {},
   "outputs": [
    {
     "name": "stdout",
     "output_type": "stream",
     "text": [
      " file writte succesfully \n",
      "Tasmania is wild den\n",
      "\n",
      "tiger is endander\n",
      "\n"
     ]
    }
   ],
   "source": [
    "# 1. you have to open a file in correct mode before you write or read to file\n",
    "fileName='tasmania.txt'\n",
    "accessMode='r'\n",
    "file1=open(fileName,accessMode)\n",
    "# 2. perforing a write operation\n",
    "line1=file1.readline()\n",
    "line2=file1.readline()\n",
    "# 3.closing a file is equally important\n",
    "file1.close()\n",
    "# 4.printing a success or operation confirmation message is equally important\n",
    "print(\" file writte succesfully \")\n",
    "print(line1)\n",
    "print(line2)"
   ]
  },
  {
   "cell_type": "markdown",
   "metadata": {},
   "source": [
    "### 3. reading a csv file using readline"
   ]
  },
  {
   "cell_type": "code",
   "execution_count": 19,
   "metadata": {},
   "outputs": [
    {
     "name": "stdout",
     "output_type": "stream",
     "text": [
      " file writte succesfully \n",
      "alina,24\n",
      "\n",
      "kaleem,32\n",
      "\n"
     ]
    }
   ],
   "source": [
    "# 1. you have to open a file in correct mode before you write or read to file\n",
    "fileName='demo.csv'\n",
    "accessMode='r'\n",
    "file1=open(fileName,accessMode)\n",
    "# 2. perforing a write operation\n",
    "line1=file1.readline()\n",
    "line2=file1.readline()\n",
    "# 3.closing a file is equally important\n",
    "file1.close()\n",
    "# 4.printing a success or operation confirmation message is equally important\n",
    "print(\" file writte succesfully \")\n",
    "print(line1)\n",
    "print(line2)"
   ]
  },
  {
   "cell_type": "markdown",
   "metadata": {},
   "source": [
    "### 4. reading a csv file using csv library"
   ]
  },
  {
   "cell_type": "code",
   "execution_count": 22,
   "metadata": {},
   "outputs": [],
   "source": [
    "# 1. import csv  library\n",
    "import csv"
   ]
  },
  {
   "cell_type": "code",
   "execution_count": 37,
   "metadata": {},
   "outputs": [
    {
     "name": "stdout",
     "output_type": "stream",
     "text": [
      "['Tasmania is wild ', 'den']\n",
      "['tiger is ', ' endander']\n",
      "['passu are ', ' comman']\n"
     ]
    }
   ],
   "source": [
    "# open myfile\n",
    "with open('tasmania.txt','r') as myfile:\n",
    "    allRowList=csv.reader(myfile)\n",
    "    for currentRow in allRowList:\n",
    "        print(currentRow)"
   ]
  },
  {
   "cell_type": "code",
   "execution_count": 38,
   "metadata": {},
   "outputs": [
    {
     "ename": "ValueError",
     "evalue": "I/O operation on closed file.",
     "output_type": "error",
     "traceback": [
      "\u001b[1;31m---------------------------------------------------------------------------\u001b[0m",
      "\u001b[1;31mValueError\u001b[0m                                Traceback (most recent call last)",
      "\u001b[1;32m<ipython-input-38-b073c78bff6b>\u001b[0m in \u001b[0;36m<module>\u001b[1;34m()\u001b[0m\n\u001b[1;32m----> 1\u001b[1;33m \u001b[1;32mfor\u001b[0m \u001b[0mcurrentRow\u001b[0m \u001b[1;32min\u001b[0m \u001b[0mallRowList\u001b[0m\u001b[1;33m:\u001b[0m\u001b[1;33m\u001b[0m\u001b[0m\n\u001b[0m\u001b[0;32m      2\u001b[0m         \u001b[0mprint\u001b[0m\u001b[1;33m(\u001b[0m\u001b[0mcurrentRow\u001b[0m\u001b[1;33m)\u001b[0m\u001b[1;33m\u001b[0m\u001b[0m\n",
      "\u001b[1;31mValueError\u001b[0m: I/O operation on closed file."
     ]
    }
   ],
   "source": [
    "for currentRow in allRowList:\n",
    "        print(currentRow)"
   ]
  },
  {
   "cell_type": "markdown",
   "metadata": {},
   "source": [
    "### a.  now reader fuction will be used to read all the rows  from the opened csv file and return each rows as (list of list)"
   ]
  },
  {
   "cell_type": "code",
   "execution_count": 40,
   "metadata": {},
   "outputs": [
    {
     "ename": "NameError",
     "evalue": "name 'myCSVfile' is not defined",
     "output_type": "error",
     "traceback": [
      "\u001b[1;31m---------------------------------------------------------------------------\u001b[0m",
      "\u001b[1;31mNameError\u001b[0m                                 Traceback (most recent call last)",
      "\u001b[1;32m<ipython-input-40-099f599a5269>\u001b[0m in \u001b[0;36m<module>\u001b[1;34m()\u001b[0m\n\u001b[0;32m      2\u001b[0m \u001b[1;31m# from the opened csv file and return each rows as (list of list)\u001b[0m\u001b[1;33m\u001b[0m\u001b[1;33m\u001b[0m\u001b[0m\n\u001b[0;32m      3\u001b[0m \u001b[1;33m\u001b[0m\u001b[0m\n\u001b[1;32m----> 4\u001b[1;33m \u001b[0mdataFromFile\u001b[0m\u001b[1;33m=\u001b[0m\u001b[0mcsv\u001b[0m\u001b[1;33m.\u001b[0m\u001b[0mreader\u001b[0m\u001b[1;33m(\u001b[0m\u001b[0mmyCSVfile\u001b[0m\u001b[1;33m)\u001b[0m\u001b[1;33m\u001b[0m\u001b[0m\n\u001b[0m",
      "\u001b[1;31mNameError\u001b[0m: name 'myCSVfile' is not defined"
     ]
    }
   ],
   "source": [
    "# 2.  now reader fuction will be used to read all the rows \n",
    "# from the opened csv file and return each rows as (list of list)\n",
    "\n",
    "dataFromFile=csv.reader(myCSVfile)"
   ]
  },
  {
   "cell_type": "markdown",
   "metadata": {},
   "source": [
    "### b. if you are not using comma to defrate values you can tell the reader function what character is used as delimiter"
   ]
  },
  {
   "cell_type": "code",
   "execution_count": 41,
   "metadata": {},
   "outputs": [
    {
     "ename": "NameError",
     "evalue": "name 'myCSVfile' is not defined",
     "output_type": "error",
     "traceback": [
      "\u001b[1;31m---------------------------------------------------------------------------\u001b[0m",
      "\u001b[1;31mNameError\u001b[0m                                 Traceback (most recent call last)",
      "\u001b[1;32m<ipython-input-41-80ac74b4f54e>\u001b[0m in \u001b[0;36m<module>\u001b[1;34m()\u001b[0m\n\u001b[1;32m----> 1\u001b[1;33m \u001b[0mdataFromFile\u001b[0m\u001b[1;33m=\u001b[0m\u001b[0mcsv\u001b[0m\u001b[1;33m.\u001b[0m\u001b[0mreader\u001b[0m\u001b[1;33m(\u001b[0m\u001b[0mmyCSVfile\u001b[0m\u001b[1;33m,\u001b[0m\u001b[0mdelimiter\u001b[0m\u001b[1;33m=\u001b[0m\u001b[1;34m\",\"\u001b[0m\u001b[1;33m)\u001b[0m\u001b[1;33m\u001b[0m\u001b[0m\n\u001b[0m",
      "\u001b[1;31mNameError\u001b[0m: name 'myCSVfile' is not defined"
     ]
    }
   ],
   "source": [
    "dataFromFile=csv.reader(myCSVfile,delimiter=\",\")"
   ]
  },
  {
   "cell_type": "code",
   "execution_count": 42,
   "metadata": {
    "collapsed": true
   },
   "outputs": [],
   "source": [
    "#"
   ]
  },
  {
   "cell_type": "code",
   "execution_count": 45,
   "metadata": {},
   "outputs": [
    {
     "name": "stdout",
     "output_type": "stream",
     "text": [
      "<_csv.reader object at 0x000000637F1A2E18>\n",
      "['Tasmania is wild ', 'den']\n",
      "Tasmania is wild \n",
      "den\n",
      "['tiger is ', ' endander']\n",
      "tiger is \n",
      " endander\n",
      "['passu are ', ' comman']\n",
      "passu are \n",
      " comman\n"
     ]
    }
   ],
   "source": [
    "import csv\n",
    "with open('tasmania.txt','r') as myfile:\n",
    "    allRowList=csv.reader(myfile)\n",
    "    print(allRowList)\n",
    "    for currentRow in allRowList:\n",
    "        print(currentRow)\n",
    "        for cWord in currentRow:\n",
    "            print(cWord)"
   ]
  },
  {
   "cell_type": "markdown",
   "metadata": {},
   "source": [
    "## 5. using join finction to format the output \n",
    "it joins the content of a list to show as a sentence"
   ]
  },
  {
   "cell_type": "code",
   "execution_count": 50,
   "metadata": {},
   "outputs": [
    {
     "name": "stdout",
     "output_type": "stream",
     "text": [
      "passu are ; comman\n"
     ]
    }
   ],
   "source": [
    "#  seperatorToDisplay.join(myList)\n",
    "\n",
    "print(';'.join(currentRow))"
   ]
  },
  {
   "cell_type": "code",
   "execution_count": 51,
   "metadata": {},
   "outputs": [
    {
     "name": "stdout",
     "output_type": "stream",
     "text": [
      "Tasmania is wild :den\n",
      "tiger is : endander\n",
      "passu are : comman\n"
     ]
    }
   ],
   "source": [
    "import csv\n",
    "with open('tasmania.txt','r') as myfile:\n",
    "    allRowList=csv.reader(myfile)\n",
    "\n",
    "    for currentRow in allRowList:\n",
    "        print(':'.join(currentRow))\n",
    "#         for cWord in currentRow:\n",
    "#             print(cWord)"
   ]
  },
  {
   "cell_type": "markdown",
   "metadata": {},
   "source": [
    "##            Challenge\n",
    "#### write a program that will print all the name and ages of the guests in the guestlist i.e demo file you created in last module"
   ]
  },
  {
   "cell_type": "code",
   "execution_count": 57,
   "metadata": {},
   "outputs": [
    {
     "name": "stdout",
     "output_type": "stream",
     "text": [
      "alina 24\n",
      "kaleem 32\n",
      "Malina 71\n",
      "Saleem 11\n"
     ]
    }
   ],
   "source": [
    "import csv\n",
    "with open('demo.csv','r') as myfile2:\n",
    "    allContent=csv.reader(myfile2)\n",
    "    for currentRow in allContent:\n",
    "        print(\" \".join(currentRow))"
   ]
  },
  {
   "cell_type": "code",
   "execution_count": null,
   "metadata": {
    "collapsed": true
   },
   "outputs": [],
   "source": []
  }
 ],
 "metadata": {
  "kernelspec": {
   "display_name": "Python 3",
   "language": "python",
   "name": "python3"
  },
  "language_info": {
   "codemirror_mode": {
    "name": "ipython",
    "version": 3
   },
   "file_extension": ".py",
   "mimetype": "text/x-python",
   "name": "python",
   "nbconvert_exporter": "python",
   "pygments_lexer": "ipython3",
   "version": "3.6.3"
  }
 },
 "nbformat": 4,
 "nbformat_minor": 2
}
