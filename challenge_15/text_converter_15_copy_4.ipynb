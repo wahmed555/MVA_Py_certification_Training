{
 "cells": [
  {
   "cell_type": "code",
   "execution_count": null,
   "metadata": {
    "collapsed": true
   },
   "outputs": [],
   "source": []
  },
  {
   "cell_type": "code",
   "execution_count": 3,
   "metadata": {},
   "outputs": [
    {
     "name": "stdout",
     "output_type": "stream",
     "text": [
      "['2F4U-Too Fast For You']\n",
      "['4YEO FYEO-For Your Eyes Only']\n",
      "['-']\n",
      "['AAMOF-As a Matter of Fact']\n",
      "['ACK-Acknowledgment']\n",
      "['AFAIK-As far as I know']\n",
      "['AFAIR-As far as I remember / recall']\n",
      "['AFK-Away from Keyboard']\n",
      "['AKA-Also known as']\n",
      "['-']\n",
      "['B2K BTK-Back to Keyboard']\n",
      "['BTT-Back to Topic']\n",
      "['BTW-By the Way']\n",
      "['B/C-Because']\n",
      "['-']\n",
      "['C&P-Copy and Paste']\n",
      "['CU-See you']\n",
      "['CYS-Check your Settings']\n",
      "['-']\n",
      "['DIY-Do it Yourself']\n",
      "['-']\n",
      "['EOBD-End of Business Day']\n",
      "['EOD-End of Discussion']\n",
      "['EOM-End of Message']\n",
      "['EOT-End of Thread / .. Text / .. Transmission']\n",
      "['-']\n",
      "['FAQ-Frequently asked Questions']\n",
      "['FACK-Full Acknowledge']\n",
      "['FKA-Formerly known as']\n",
      "[\"FWIW-For what it's Worth\"]\n",
      "['FYI / JFYI-(Just) For your Information']\n",
      "['FTW-Fuck the World / For the Win']\n",
      "['-']\n",
      "['HF-Have fun']\n",
      "['HTH-Hope this Helps']\n",
      "['-']\n",
      "[\"IDK-I don't know\"]\n",
      "['IIRC-If I Recall / Remember Correctly']\n",
      "['IMHO-In my Humble Opinion']\n",
      "['IMO-In my Opinion']\n",
      "['IMNSHO-In my not so Humble / Honest Opinion']\n",
      "['IOW-In other Words']\n",
      "['ITT-In this Thread']\n",
      "['-']\n",
      "['LOL-Laughing out loud']\n",
      "[\"DGMW-Don't get me wrong\"]\n",
      "['MMW-Mark my Words']\n",
      "['-']\n",
      "['N/A-Not Available / Applicable']\n",
      "['NaN-Not a Number']\n",
      "['NNTR-No need to Reply']\n",
      "['noob n00b-Newbie']\n",
      "['NOYB-None of your Business']\n",
      "['NRN-No Reply Necessary']\n",
      "['-']\n",
      "['OMG-Oh my God']\n",
      "['OP-Original Poster', ' Original Post']\n",
      "['OT-Off Topic']\n",
      "['OTOH-On the other Hand']\n",
      "['-']\n",
      "['PEBKAC-Problem exists between Keyboard and Chair']\n",
      "['POV-Point of View']\n",
      "['-']\n",
      "['ROTFL-Rolling on the Floor Laughing']\n",
      "[\"RSVP-Repondez s'il vous plait (French: Please reply)\"]\n",
      "['RTFM-Read the fine Manual']\n",
      "['-']\n",
      "['SCNR-Sorry', ' could not Resist']\n",
      "['SFLR-Sorry', ' for late Reply']\n",
      "['SPOC-Single Point of Contact']\n",
      "['-']\n",
      "['-']\n",
      "['TBA-To be Announced']\n",
      "['TBC-To be Continued / To be Confirmed']\n",
      "['TIA-Thanks in Advance']\n",
      "['TGIF-Thanks God', ' its Friday']\n",
      "['THX TNX-Thanks']\n",
      "['TQ-Thank You']\n",
      "['TYVM-Thank You Very Much']\n",
      "['TYT-Take your Time']\n",
      "['TTYL-Talk to you Later']\n",
      "['-']\n",
      "['w00t-\"Whoomp', ' there it is; Meaning \"\"Hooray\"\"\"']\n",
      "['WFM-Works for Me']\n",
      "['WRT-With Regard to']\n",
      "['WTH-What the Hell / What the Heck']\n",
      "['WTF-What the Fuck']\n",
      "['-']\n",
      "['YMMD-You made my Day']\n",
      "['YMMV-Your Mileage may vary']\n",
      "['YAM-Yet Another Meeting']\n",
      "['ICYMI-In Case you missed it']\n",
      "[['2F4U-Too Fast For You'], ['4YEO FYEO-For Your Eyes Only'], ['-'], ['AAMOF-As a Matter of Fact'], ['ACK-Acknowledgment'], ['AFAIK-As far as I know'], ['AFAIR-As far as I remember / recall'], ['AFK-Away from Keyboard'], ['AKA-Also known as'], ['-'], ['B2K BTK-Back to Keyboard'], ['BTT-Back to Topic'], ['BTW-By the Way'], ['B/C-Because'], ['-'], ['C&P-Copy and Paste'], ['CU-See you'], ['CYS-Check your Settings'], ['-'], ['DIY-Do it Yourself'], ['-'], ['EOBD-End of Business Day'], ['EOD-End of Discussion'], ['EOM-End of Message'], ['EOT-End of Thread / .. Text / .. Transmission'], ['-'], ['FAQ-Frequently asked Questions'], ['FACK-Full Acknowledge'], ['FKA-Formerly known as'], [\"FWIW-For what it's Worth\"], ['FYI / JFYI-(Just) For your Information'], ['FTW-Fuck the World / For the Win'], ['-'], ['HF-Have fun'], ['HTH-Hope this Helps'], ['-'], [\"IDK-I don't know\"], ['IIRC-If I Recall / Remember Correctly'], ['IMHO-In my Humble Opinion'], ['IMO-In my Opinion'], ['IMNSHO-In my not so Humble / Honest Opinion'], ['IOW-In other Words'], ['ITT-In this Thread'], ['-'], ['LOL-Laughing out loud'], [\"DGMW-Don't get me wrong\"], ['MMW-Mark my Words'], ['-'], ['N/A-Not Available / Applicable'], ['NaN-Not a Number'], ['NNTR-No need to Reply'], ['noob n00b-Newbie'], ['NOYB-None of your Business'], ['NRN-No Reply Necessary'], ['-'], ['OMG-Oh my God'], ['OP-Original Poster', ' Original Post'], ['OT-Off Topic'], ['OTOH-On the other Hand'], ['-'], ['PEBKAC-Problem exists between Keyboard and Chair'], ['POV-Point of View'], ['-'], ['ROTFL-Rolling on the Floor Laughing'], [\"RSVP-Repondez s'il vous plait (French: Please reply)\"], ['RTFM-Read the fine Manual'], ['-'], ['SCNR-Sorry', ' could not Resist'], ['SFLR-Sorry', ' for late Reply'], ['SPOC-Single Point of Contact'], ['-'], ['-'], ['TBA-To be Announced'], ['TBC-To be Continued / To be Confirmed'], ['TIA-Thanks in Advance'], ['TGIF-Thanks God', ' its Friday'], ['THX TNX-Thanks'], ['TQ-Thank You'], ['TYVM-Thank You Very Much'], ['TYT-Take your Time'], ['TTYL-Talk to you Later'], ['-'], ['w00t-\"Whoomp', ' there it is; Meaning \"\"Hooray\"\"\"'], ['WFM-Works for Me'], ['WRT-With Regard to'], ['WTH-What the Hell / What the Heck'], ['WTF-What the Fuck'], ['-'], ['YMMD-You made my Day'], ['YMMV-Your Mileage may vary'], ['YAM-Yet Another Meeting'], ['ICYMI-In Case you missed it']]\n"
     ]
    }
   ],
   "source": [
    "import csv\n",
    "# 1. you have to open a file in correct mode before you write or read to file\n",
    "fileName='abbre.csv'\n",
    "accessMode='r'\n",
    "fss=[]\n",
    "# open myfile\n",
    "with open(fileName,accessMode) as myfile:\n",
    "    allRowList=csv.reader(myfile)\n",
    "    for currentRow in allRowList:\n",
    "        fss.append(currentRow)\n",
    "        print(currentRow)\n",
    "\n",
    "print(fss)"
   ]
  },
  {
   "cell_type": "code",
   "execution_count": 27,
   "metadata": {},
   "outputs": [
    {
     "data": {
      "text/plain": [
       "[['2F4U-Too Fast For You'],\n",
       " ['4YEO FYEO-For Your Eyes Only'],\n",
       " ['-'],\n",
       " ['AAMOF-As a Matter of Fact'],\n",
       " ['ACK-Acknowledgment'],\n",
       " ['AFAIK-As far as I know'],\n",
       " ['AFAIR-As far as I remember / recall'],\n",
       " ['AFK-Away from Keyboard'],\n",
       " ['AKA-Also known as'],\n",
       " ['-'],\n",
       " ['B2K BTK-Back to Keyboard'],\n",
       " ['BTT-Back to Topic'],\n",
       " ['BTW-By the Way'],\n",
       " ['B/C-Because'],\n",
       " ['-'],\n",
       " ['C&P-Copy and Paste'],\n",
       " ['CU-See you'],\n",
       " ['CYS-Check your Settings'],\n",
       " ['-'],\n",
       " ['DIY-Do it Yourself'],\n",
       " ['-'],\n",
       " ['EOBD-End of Business Day'],\n",
       " ['EOD-End of Discussion'],\n",
       " ['EOM-End of Message'],\n",
       " ['EOT-End of Thread / .. Text / .. Transmission'],\n",
       " ['-'],\n",
       " ['FAQ-Frequently asked Questions'],\n",
       " ['FACK-Full Acknowledge'],\n",
       " ['FKA-Formerly known as'],\n",
       " [\"FWIW-For what it's Worth\"],\n",
       " ['FYI / JFYI-(Just) For your Information'],\n",
       " ['FTW-Fuck the World / For the Win'],\n",
       " ['-'],\n",
       " ['HF-Have fun'],\n",
       " ['HTH-Hope this Helps'],\n",
       " ['-'],\n",
       " [\"IDK-I don't know\"],\n",
       " ['IIRC-If I Recall / Remember Correctly'],\n",
       " ['IMHO-In my Humble Opinion'],\n",
       " ['IMO-In my Opinion'],\n",
       " ['IMNSHO-In my not so Humble / Honest Opinion'],\n",
       " ['IOW-In other Words'],\n",
       " ['ITT-In this Thread'],\n",
       " ['-'],\n",
       " ['LOL-Laughing out loud'],\n",
       " [\"DGMW-Don't get me wrong\"],\n",
       " ['MMW-Mark my Words'],\n",
       " ['-'],\n",
       " ['N/A-Not Available / Applicable'],\n",
       " ['NaN-Not a Number'],\n",
       " ['NNTR-No need to Reply'],\n",
       " ['noob n00b-Newbie'],\n",
       " ['NOYB-None of your Business'],\n",
       " ['NRN-No Reply Necessary'],\n",
       " ['-'],\n",
       " ['OMG-Oh my God'],\n",
       " ['OP-Original Poster', ' Original Post'],\n",
       " ['OT-Off Topic'],\n",
       " ['OTOH-On the other Hand'],\n",
       " ['-'],\n",
       " ['PEBKAC-Problem exists between Keyboard and Chair'],\n",
       " ['POV-Point of View'],\n",
       " ['-'],\n",
       " ['ROTFL-Rolling on the Floor Laughing'],\n",
       " [\"RSVP-Repondez s'il vous plait (French: Please reply)\"],\n",
       " ['RTFM-Read the fine Manual'],\n",
       " ['-'],\n",
       " ['SCNR-Sorry', ' could not Resist'],\n",
       " ['SFLR-Sorry', ' for late Reply'],\n",
       " ['SPOC-Single Point of Contact'],\n",
       " ['-'],\n",
       " ['-'],\n",
       " ['TBA-To be Announced'],\n",
       " ['TBC-To be Continued / To be Confirmed'],\n",
       " ['TIA-Thanks in Advance'],\n",
       " ['TGIF-Thanks God', ' its Friday'],\n",
       " ['THX TNX-Thanks'],\n",
       " ['TQ-Thank You'],\n",
       " ['TYVM-Thank You Very Much'],\n",
       " ['TYT-Take your Time'],\n",
       " ['TTYL-Talk to you Later'],\n",
       " ['-'],\n",
       " ['w00t-\"Whoomp', ' there it is; Meaning \"\"Hooray\"\"\"'],\n",
       " ['WFM-Works for Me'],\n",
       " ['WRT-With Regard to'],\n",
       " ['WTH-What the Hell / What the Heck'],\n",
       " ['WTF-What the Fuck'],\n",
       " ['-'],\n",
       " ['YMMD-You made my Day'],\n",
       " ['YMMV-Your Mileage may vary'],\n",
       " ['YAM-Yet Another Meeting'],\n",
       " ['ICYMI-In Case you missed it']]"
      ]
     },
     "execution_count": 27,
     "metadata": {},
     "output_type": "execute_result"
    }
   ],
   "source": [
    "fss"
   ]
  },
  {
   "cell_type": "code",
   "execution_count": 4,
   "metadata": {
    "collapsed": true
   },
   "outputs": [],
   "source": [
    "nss=[]\n",
    "for fs in fss:\n",
    "    for f in fs:\n",
    "        ns=f.split('-')\n",
    "    nss.append(ns)\n",
    "    "
   ]
  },
  {
   "cell_type": "code",
   "execution_count": 30,
   "metadata": {},
   "outputs": [
    {
     "data": {
      "text/plain": [
       "[['2F4U', 'Too Fast For You'],\n",
       " ['4YEO FYEO', 'For Your Eyes Only'],\n",
       " ['', ''],\n",
       " ['AAMOF', 'As a Matter of Fact'],\n",
       " ['ACK', 'Acknowledgment'],\n",
       " ['AFAIK', 'As far as I know'],\n",
       " ['AFAIR', 'As far as I remember / recall'],\n",
       " ['AFK', 'Away from Keyboard'],\n",
       " ['AKA', 'Also known as'],\n",
       " ['', ''],\n",
       " ['B2K BTK', 'Back to Keyboard'],\n",
       " ['BTT', 'Back to Topic'],\n",
       " ['BTW', 'By the Way'],\n",
       " ['B/C', 'Because'],\n",
       " ['', ''],\n",
       " ['C&P', 'Copy and Paste'],\n",
       " ['CU', 'See you'],\n",
       " ['CYS', 'Check your Settings'],\n",
       " ['', ''],\n",
       " ['DIY', 'Do it Yourself'],\n",
       " ['', ''],\n",
       " ['EOBD', 'End of Business Day'],\n",
       " ['EOD', 'End of Discussion'],\n",
       " ['EOM', 'End of Message'],\n",
       " ['EOT', 'End of Thread / .. Text / .. Transmission'],\n",
       " ['', ''],\n",
       " ['FAQ', 'Frequently asked Questions'],\n",
       " ['FACK', 'Full Acknowledge'],\n",
       " ['FKA', 'Formerly known as'],\n",
       " ['FWIW', \"For what it's Worth\"],\n",
       " ['FYI / JFYI', '(Just) For your Information'],\n",
       " ['FTW', 'Fuck the World / For the Win'],\n",
       " ['', ''],\n",
       " ['HF', 'Have fun'],\n",
       " ['HTH', 'Hope this Helps'],\n",
       " ['', ''],\n",
       " ['IDK', \"I don't know\"],\n",
       " ['IIRC', 'If I Recall / Remember Correctly'],\n",
       " ['IMHO', 'In my Humble Opinion'],\n",
       " ['IMO', 'In my Opinion'],\n",
       " ['IMNSHO', 'In my not so Humble / Honest Opinion'],\n",
       " ['IOW', 'In other Words'],\n",
       " ['ITT', 'In this Thread'],\n",
       " ['', ''],\n",
       " ['LOL', 'Laughing out loud'],\n",
       " ['DGMW', \"Don't get me wrong\"],\n",
       " ['MMW', 'Mark my Words'],\n",
       " ['', ''],\n",
       " ['N/A', 'Not Available / Applicable'],\n",
       " ['NaN', 'Not a Number'],\n",
       " ['NNTR', 'No need to Reply'],\n",
       " ['noob n00b', 'Newbie'],\n",
       " ['NOYB', 'None of your Business'],\n",
       " ['NRN', 'No Reply Necessary'],\n",
       " ['', ''],\n",
       " ['OMG', 'Oh my God'],\n",
       " [' Original Post'],\n",
       " ['OT', 'Off Topic'],\n",
       " ['OTOH', 'On the other Hand'],\n",
       " ['', ''],\n",
       " ['PEBKAC', 'Problem exists between Keyboard and Chair'],\n",
       " ['POV', 'Point of View'],\n",
       " ['', ''],\n",
       " ['ROTFL', 'Rolling on the Floor Laughing'],\n",
       " ['RSVP', \"Repondez s'il vous plait (French: Please reply)\"],\n",
       " ['RTFM', 'Read the fine Manual'],\n",
       " ['', ''],\n",
       " [' could not Resist'],\n",
       " [' for late Reply'],\n",
       " ['SPOC', 'Single Point of Contact'],\n",
       " ['', ''],\n",
       " ['', ''],\n",
       " ['TBA', 'To be Announced'],\n",
       " ['TBC', 'To be Continued / To be Confirmed'],\n",
       " ['TIA', 'Thanks in Advance'],\n",
       " [' its Friday'],\n",
       " ['THX TNX', 'Thanks'],\n",
       " ['TQ', 'Thank You'],\n",
       " ['TYVM', 'Thank You Very Much'],\n",
       " ['TYT', 'Take your Time'],\n",
       " ['TTYL', 'Talk to you Later'],\n",
       " ['', ''],\n",
       " [' there it is; Meaning \"\"Hooray\"\"\"'],\n",
       " ['WFM', 'Works for Me'],\n",
       " ['WRT', 'With Regard to'],\n",
       " ['WTH', 'What the Hell / What the Heck'],\n",
       " ['WTF', 'What the Fuck'],\n",
       " ['', ''],\n",
       " ['YMMD', 'You made my Day'],\n",
       " ['YMMV', 'Your Mileage may vary'],\n",
       " ['YAM', 'Yet Another Meeting'],\n",
       " ['ICYMI', 'In Case you missed it']]"
      ]
     },
     "execution_count": 30,
     "metadata": {},
     "output_type": "execute_result"
    }
   ],
   "source": [
    "nss"
   ]
  },
  {
   "cell_type": "code",
   "execution_count": 5,
   "metadata": {
    "collapsed": true
   },
   "outputs": [],
   "source": [
    "mss=[['LOL','laughing out loud'],\n",
    "     ['ROFL','Rolling on Floor Laughing']]\n",
    "mss=nss"
   ]
  },
  {
   "cell_type": "code",
   "execution_count": 8,
   "metadata": {},
   "outputs": [
    {
     "name": "stdout",
     "output_type": "stream",
     "text": [
      "Enter the  the sentence with short forms \n",
      "I love YMMD\n"
     ]
    }
   ],
   "source": [
    "k=input(\"Enter the  the sentence with short forms \\n\")"
   ]
  },
  {
   "cell_type": "code",
   "execution_count": 7,
   "metadata": {
    "collapsed": true
   },
   "outputs": [],
   "source": [
    "# k=\"So funny LOL\"\n"
   ]
  },
  {
   "cell_type": "code",
   "execution_count": 9,
   "metadata": {
    "collapsed": true
   },
   "outputs": [],
   "source": [
    "ls=k.split()"
   ]
  },
  {
   "cell_type": "code",
   "execution_count": 10,
   "metadata": {},
   "outputs": [
    {
     "data": {
      "text/plain": [
       "['I', 'love', 'YMMD']"
      ]
     },
     "execution_count": 10,
     "metadata": {},
     "output_type": "execute_result"
    }
   ],
   "source": [
    "ls"
   ]
  },
  {
   "cell_type": "code",
   "execution_count": 1,
   "metadata": {},
   "outputs": [
    {
     "ename": "NameError",
     "evalue": "name 'ls' is not defined",
     "output_type": "error",
     "traceback": [
      "\u001b[1;31m---------------------------------------------------------------------------\u001b[0m",
      "\u001b[1;31mNameError\u001b[0m                                 Traceback (most recent call last)",
      "\u001b[1;32m<ipython-input-1-86d97349e65a>\u001b[0m in \u001b[0;36m<module>\u001b[1;34m()\u001b[0m\n\u001b[0;32m      1\u001b[0m \u001b[1;31m# first looping through words of input sentence\u001b[0m\u001b[1;33m\u001b[0m\u001b[1;33m\u001b[0m\u001b[0m\n\u001b[1;32m----> 2\u001b[1;33m \u001b[1;32mfor\u001b[0m \u001b[0ml\u001b[0m \u001b[1;32min\u001b[0m \u001b[0mls\u001b[0m\u001b[1;33m:\u001b[0m\u001b[1;33m\u001b[0m\u001b[0m\n\u001b[0m\u001b[0;32m      3\u001b[0m \u001b[1;31m#     print(l)\u001b[0m\u001b[1;33m\u001b[0m\u001b[1;33m\u001b[0m\u001b[0m\n\u001b[0;32m      4\u001b[0m     \u001b[1;32mfor\u001b[0m \u001b[0mms\u001b[0m \u001b[1;32min\u001b[0m \u001b[0mmss\u001b[0m\u001b[1;33m:\u001b[0m\u001b[1;33m\u001b[0m\u001b[0m\n\u001b[0;32m      5\u001b[0m \u001b[1;31m#         print(ms[1])\u001b[0m\u001b[1;33m\u001b[0m\u001b[1;33m\u001b[0m\u001b[0m\n",
      "\u001b[1;31mNameError\u001b[0m: name 'ls' is not defined"
     ]
    }
   ],
   "source": [
    "# first looping through words of input sentence \n",
    "for l in ls:\n",
    "#     print(l)\n",
    "    for ms in mss:\n",
    "#         print(ms[1])\n",
    "        for m in ms:\n",
    "#             print(m)\n",
    "            \n",
    "            if l==m:\n",
    "                Acronymfound=True\n",
    "                print(\"\\n Match Found WOW!\")\n",
    "                print(l, \"is a soruce match\")\n",
    "                print(m, \"is a  replacement match\")\n",
    "                print(ls.index(l))\n",
    "                print(\"\\n In given sentence with acronym \\\" \" + ls[ls.index(l)]  + \" \\\" at location \" + str(  ls.index(l)) )\n",
    "                \n",
    "                print(\"\\n The acronym \\\" \" + ms[ms.index(m)]  + \" \\\" at location \" + str(  ms.index(m)) )\n",
    "                print(ms.index(m))\n",
    "                if (ms.index(m)==1):\n",
    "                    print (\"\\n already transformed\")\n",
    "                    break\n",
    "                    \n",
    "                else:    \n",
    "                    print(ms[ms.index(m)+1])\n",
    "\n",
    "                    print(type(ms[ms.index(m)+1]))\n",
    "    #                 ls[ls.index(l)]=ms[ms.index(m)+1]\n",
    "                    (ls[ls.index(l)])=(ms[ms.index(m)+1])\n",
    "\n",
    "                    print(l) \n",
    "                    print(m)\n",
    "            \n",
    "            else:\n",
    "                print(\" \\n\\nmatch not found\")\n",
    "                print( l + \" is not equal to \" + m)\n",
    "print(ls)\n",
    "\n",
    "outSentence=' '.join(ls)\n",
    "outSentence"
   ]
  },
  {
   "cell_type": "code",
   "execution_count": null,
   "metadata": {
    "collapsed": true
   },
   "outputs": [],
   "source": []
  },
  {
   "cell_type": "code",
   "execution_count": null,
   "metadata": {
    "collapsed": true
   },
   "outputs": [],
   "source": []
  },
  {
   "cell_type": "code",
   "execution_count": null,
   "metadata": {
    "collapsed": true
   },
   "outputs": [],
   "source": []
  },
  {
   "cell_type": "code",
   "execution_count": 152,
   "metadata": {},
   "outputs": [
    {
     "name": "stdout",
     "output_type": "stream",
     "text": [
      "['So', 'funny', 'laughing out loud']\n",
      "So funny laughing out loud\n"
     ]
    }
   ],
   "source": [
    "#  input is list ls\n",
    "\n",
    "# first looping through words of input sentence \n",
    "for l in ls:\n",
    "#     print(l)\n",
    "    for ms in mss:\n",
    "#         print(ms[1])\n",
    "        for m in ms:\n",
    "#             print(m)\n",
    "            \n",
    "            if l==m:\n",
    "                Acronymfound=True\n",
    "                print(\"\\n Match Found WOW!\")\n",
    "                print(l, \"is a soruce match\")\n",
    "                print(m, \"is a  replacement match\")\n",
    "                print(ls.index(l))\n",
    "                print(\"\\n In given sentence with acronym \\\" \" + ls[ls.index(l)]  + \" \\\" at location \" + str(  ls.index(l)) )\n",
    "                \n",
    "                print(\"\\n The acronym \\\" \" + ms[ms.index(m)]  + \" \\\" at location \" + str(  ms.index(m)) )\n",
    "                print(ms.index(m))\n",
    "                if (ms.index(m)==1):\n",
    "                    print (\"\\n already transformed\")\n",
    "                    break\n",
    "                    \n",
    "                else:    \n",
    "                    print(ms[ms.index(m)+1])\n",
    "\n",
    "                    print(type(ms[ms.index(m)+1]))\n",
    "    #                 ls[ls.index(l)]=ms[ms.index(m)+1]\n",
    "                    (ls[ls.index(l)])=(ms[ms.index(m)+1])\n",
    "\n",
    "                    print(l) \n",
    "                    print(m)\n",
    "            \n",
    "            else:\n",
    "                break\n",
    "                print(\" \\n\\nmatch not found\")\n",
    "                print( l + \" is not equal to \" + m)\n",
    "#                \n",
    "print(ls)\n",
    "\n",
    "outSentence=' '.join(ls)\n",
    "print(outSentence)"
   ]
  },
  {
   "cell_type": "code",
   "execution_count": 151,
   "metadata": {
    "collapsed": true
   },
   "outputs": [],
   "source": [
    "outSentence=' '.join(ls)"
   ]
  },
  {
   "cell_type": "code",
   "execution_count": 104,
   "metadata": {},
   "outputs": [
    {
     "data": {
      "text/plain": [
       "'So funny laughing out loud'"
      ]
     },
     "execution_count": 104,
     "metadata": {},
     "output_type": "execute_result"
    }
   ],
   "source": [
    "outSentence"
   ]
  },
  {
   "cell_type": "code",
   "execution_count": null,
   "metadata": {
    "collapsed": true
   },
   "outputs": [],
   "source": []
  },
  {
   "cell_type": "code",
   "execution_count": 101,
   "metadata": {},
   "outputs": [
    {
     "name": "stdout",
     "output_type": "stream",
     "text": [
      " no match found\n"
     ]
    }
   ],
   "source": []
  },
  {
   "cell_type": "code",
   "execution_count": 71,
   "metadata": {
    "collapsed": true
   },
   "outputs": [],
   "source": [
    "outSentence=' '.join(ls)"
   ]
  },
  {
   "cell_type": "code",
   "execution_count": 72,
   "metadata": {},
   "outputs": [
    {
     "data": {
      "text/plain": [
       "'So funny laughing out loud'"
      ]
     },
     "execution_count": 72,
     "metadata": {},
     "output_type": "execute_result"
    }
   ],
   "source": [
    "outSentence"
   ]
  },
  {
   "cell_type": "code",
   "execution_count": null,
   "metadata": {
    "collapsed": true
   },
   "outputs": [],
   "source": []
  }
 ],
 "metadata": {
  "kernelspec": {
   "display_name": "Python 3",
   "language": "python",
   "name": "python3"
  },
  "language_info": {
   "codemirror_mode": {
    "name": "ipython",
    "version": 3
   },
   "file_extension": ".py",
   "mimetype": "text/x-python",
   "name": "python",
   "nbconvert_exporter": "python",
   "pygments_lexer": "ipython3",
   "version": "3.6.3"
  }
 },
 "nbformat": 4,
 "nbformat_minor": 2
}
