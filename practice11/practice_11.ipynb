{
 "cells": [
  {
   "cell_type": "markdown",
   "metadata": {},
   "source": [
    "### opening and writing to a file"
   ]
  },
  {
   "cell_type": "code",
   "execution_count": 12,
   "metadata": {
    "collapsed": true
   },
   "outputs": [],
   "source": [
    "# 1. you have to open a file in correct mode before you write or read to file\n",
    "fileName='demo.txt'\n",
    "accessMode='w'\n",
    "file1=open(fileName,accessMode)"
   ]
  },
  {
   "cell_type": "code",
   "execution_count": 13,
   "metadata": {},
   "outputs": [
    {
     "data": {
      "text/plain": [
       "23"
      ]
     },
     "execution_count": 13,
     "metadata": {},
     "output_type": "execute_result"
    }
   ],
   "source": [
    "# 2. perforing a write operation\n",
    "file1.write(\"Its new written line\")\n",
    "file1.write(\"Its second written line\")"
   ]
  },
  {
   "cell_type": "code",
   "execution_count": 14,
   "metadata": {
    "collapsed": true
   },
   "outputs": [],
   "source": [
    "# 3.closing a file is equally important\n",
    "file1.close()"
   ]
  },
  {
   "cell_type": "code",
   "execution_count": 16,
   "metadata": {},
   "outputs": [
    {
     "name": "stdout",
     "output_type": "stream",
     "text": [
      " file writte succesfully \n"
     ]
    }
   ],
   "source": [
    "# 4.printing a success or operation confirmation message is equally important\n",
    "print(\" file writte succesfully \")"
   ]
  },
  {
   "cell_type": "markdown",
   "metadata": {},
   "source": [
    "###  if file already contains a text or data , then openning a file in write mode will overwrite the file\n",
    "\n",
    "#### There fore open a file in append mode to avoid lossing previous data"
   ]
  },
  {
   "cell_type": "code",
   "execution_count": 5,
   "metadata": {
    "collapsed": true
   },
   "outputs": [],
   "source": [
    "\n",
    "fileName='demo.txt'\n",
    "accessMode='a'\n",
    "file=open(fileName,accessMode)"
   ]
  },
  {
   "cell_type": "markdown",
   "metadata": {
    "collapsed": true
   },
   "source": [
    "# 3 writing a CSV file"
   ]
  },
  {
   "cell_type": "code",
   "execution_count": 17,
   "metadata": {},
   "outputs": [
    {
     "name": "stdout",
     "output_type": "stream",
     "text": [
      " file writte succesfully \n"
     ]
    }
   ],
   "source": [
    "# 1. you have to open a file in correct mode before you write or read to file\n",
    "fileName='demo.csv'\n",
    "accessMode='w'\n",
    "file1=open(fileName,accessMode)\n",
    "# 2. perforing a write operation\n",
    "file1.write(\"wasim,30\\n\")\n",
    "file1.write(\"Rab,33\\n\")\n",
    "# 3.closing a file is equally important\n",
    "file1.close()\n",
    "# 4.printing a success or operation confirmation message is equally important\n",
    "print(\" file writte succesfully \")"
   ]
  },
  {
   "cell_type": "markdown",
   "metadata": {},
   "source": [
    "## 4. input Data from user to write to the file "
   ]
  },
  {
   "cell_type": "code",
   "execution_count": 19,
   "metadata": {},
   "outputs": [
    {
     "name": "stdout",
     "output_type": "stream",
     "text": [
      " Enter the content of para a quicky browning foxy run over a sexy black boxer bitch\n",
      " file writte succesfully \n"
     ]
    }
   ],
   "source": [
    "k=input(\" Enter the content of para\")\n",
    "# 1. you have to open a file in correct mode before you write or read to file\n",
    "fileName='demo4.txt'\n",
    "accessMode='w'\n",
    "file1=open(fileName,accessMode)\n",
    "# 2. perforing a write operation\n",
    "file1.write(k)\n",
    "# 3.closing a file is equally important\n",
    "file1.close()\n",
    "# 4.printing a success or operation confirmation message is equally important\n",
    "print(\" file writte succesfully \")"
   ]
  },
  {
   "cell_type": "code",
   "execution_count": null,
   "metadata": {
    "collapsed": true
   },
   "outputs": [],
   "source": []
  }
 ],
 "metadata": {
  "kernelspec": {
   "display_name": "Python 3",
   "language": "python",
   "name": "python3"
  },
  "language_info": {
   "codemirror_mode": {
    "name": "ipython",
    "version": 3
   },
   "file_extension": ".py",
   "mimetype": "text/x-python",
   "name": "python",
   "nbconvert_exporter": "python",
   "pygments_lexer": "ipython3",
   "version": "3.6.3"
  }
 },
 "nbformat": 4,
 "nbformat_minor": 2
}
