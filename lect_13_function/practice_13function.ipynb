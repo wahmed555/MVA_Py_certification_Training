{
 "cells": [
  {
   "cell_type": "code",
   "execution_count": null,
   "metadata": {},
   "outputs": [],
   "source": []
  },
  {
   "cell_type": "code",
   "execution_count": null,
   "metadata": {},
   "outputs": [],
   "source": []
  },
  {
   "cell_type": "code",
   "execution_count": null,
   "metadata": {},
   "outputs": [],
   "source": []
  },
  {
   "cell_type": "code",
   "execution_count": 5,
   "metadata": {},
   "outputs": [],
   "source": [
    "def getMessage(name):\n",
    "    message='Hello '+name\n",
    "    return message\n",
    "\n",
    "def printMessage(message):\n",
    "    print(message)\n",
    "    return\n"
   ]
  },
  {
   "cell_type": "code",
   "execution_count": 6,
   "metadata": {},
   "outputs": [],
   "source": [
    "output=getMessage('Christoman')"
   ]
  },
  {
   "cell_type": "code",
   "execution_count": 7,
   "metadata": {},
   "outputs": [
    {
     "data": {
      "text/plain": [
       "'Hello Jerry'"
      ]
     },
     "execution_count": 7,
     "metadata": {},
     "output_type": "execute_result"
    }
   ],
   "source": [
    "getMessage('Jerry')"
   ]
  },
  {
   "cell_type": "code",
   "execution_count": 8,
   "metadata": {},
   "outputs": [
    {
     "name": "stdout",
     "output_type": "stream",
     "text": [
      "Hello Christoman\n"
     ]
    }
   ],
   "source": [
    "printMessage(output)"
   ]
  },
  {
   "cell_type": "markdown",
   "metadata": {},
   "source": [
    "## challenges\n",
    "\n",
    "#### create a function to simplify writing to a file\n",
    "#### set function to accept parameter \n",
    "##### one for text \n",
    "#####  one for file name"
   ]
  },
  {
   "cell_type": "code",
   "execution_count": 16,
   "metadata": {},
   "outputs": [
    {
     "name": "stdout",
     "output_type": "stream",
     "text": [
      "directory.txt file write successfuly\n"
     ]
    }
   ],
   "source": [
    "# Just for testing  running code without function\n",
    "fileName=\"directory.txt\"\n",
    "writeMode=\"w\"\n",
    "text1=\" He is the one person society 1\"\n",
    "with open (fileName,writeMode) as myobj:\n",
    "    myobj.write(text1)\n",
    "print( fileName+ \" file write successfuly\")"
   ]
  },
  {
   "cell_type": "code",
   "execution_count": 30,
   "metadata": {},
   "outputs": [],
   "source": [
    "# creating a function that inputs name  and text from user\n",
    "def func4NameText():\n",
    "    fName=input(\"Enter the file Name with extension\")\n",
    "    text1=input(\" Enter the text you want to write to a file\")\n",
    "    return fName,text1"
   ]
  },
  {
   "cell_type": "code",
   "execution_count": 34,
   "metadata": {},
   "outputs": [],
   "source": [
    "# file writing functin that \n",
    "def fcreate(fName,text1):\n",
    "#     func4NameText()\n",
    "    writeMode=\"w\"\n",
    "    with open (fName,writeMode) as myobj:\n",
    "        myobj.write(text1)\n",
    "    print( fileName+ \" file write successfuly\")"
   ]
  },
  {
   "cell_type": "code",
   "execution_count": 35,
   "metadata": {},
   "outputs": [
    {
     "name": "stdout",
     "output_type": "stream",
     "text": [
      "Enter the file Name with extensioned.txt\n",
      " Enter the text you want to write to a filewookjg jiiji5 oiiookj55656 okoko0009999\n",
      "directory.txt file write successfuly\n"
     ]
    }
   ],
   "source": [
    "#  using the two functions in a style\n",
    "param1,param2=func4NameText()\n",
    "fcreate(param1,param2)"
   ]
  },
  {
   "cell_type": "code",
   "execution_count": 46,
   "metadata": {},
   "outputs": [
    {
     "name": "stdout",
     "output_type": "stream",
     "text": [
      "Enter the file Name with extensionwer.csv\n",
      " Enter the text you want to write to a filewerr,23\n",
      "directory.txt file write successfuly\n"
     ]
    }
   ],
   "source": [
    "#  Method 2 using the two functions in a Main\n",
    "def main():\n",
    "    param1,param2=func4NameText()\n",
    "    fcreate(param1,param2)\n",
    "    return\n",
    "main()"
   ]
  },
  {
   "cell_type": "code",
   "execution_count": 45,
   "metadata": {},
   "outputs": [
    {
     "name": "stdout",
     "output_type": "stream",
     "text": [
      "Enter the file Name with extensionwow.txt\n",
      " Enter the text you want to write to a filewe are the best on top of the world\n",
      "directory.txt file write successfuly\n"
     ]
    }
   ],
   "source": [
    "main()"
   ]
  },
  {
   "cell_type": "markdown",
   "metadata": {},
   "source": [
    "### Extra Challenge"
   ]
  },
  {
   "cell_type": "code",
   "execution_count": 73,
   "metadata": {},
   "outputs": [],
   "source": [
    "def dateform():\n",
    "    user_BirthDay=input(\"Enter the Birthday\")\n",
    "    date_day=user_BirthDay[0:2]\n",
    "    date_month=user_BirthDay[4:5]\n",
    "    date_year=user_BirthDay[-4:]\n",
    "    print(date_day)\n",
    "    print(date_month)\n",
    "    print(date_year)\n",
    "    print('-'.join([date_day,date_month,date_year]))\n"
   ]
  },
  {
   "cell_type": "code",
   "execution_count": 72,
   "metadata": {},
   "outputs": [
    {
     "name": "stdout",
     "output_type": "stream",
     "text": [
      "Enter the Birthday12/22/2018\n"
     ]
    },
    {
     "ename": "TypeError",
     "evalue": "must be str, not int",
     "output_type": "error",
     "traceback": [
      "\u001b[1;31m---------------------------------------------------------------------------\u001b[0m",
      "\u001b[1;31mTypeError\u001b[0m                                 Traceback (most recent call last)",
      "\u001b[1;32m<ipython-input-72-826881641125>\u001b[0m in \u001b[0;36m<module>\u001b[1;34m()\u001b[0m\n\u001b[1;32m----> 1\u001b[1;33m \u001b[0mdateform\u001b[0m\u001b[1;33m(\u001b[0m\u001b[1;33m)\u001b[0m\u001b[1;33m\u001b[0m\u001b[0m\n\u001b[0m",
      "\u001b[1;32m<ipython-input-71-53d0bf3872f3>\u001b[0m in \u001b[0;36mdateform\u001b[1;34m()\u001b[0m\n\u001b[0;32m      4\u001b[0m     \u001b[0mdate_month\u001b[0m\u001b[1;33m=\u001b[0m\u001b[0muser_BirthDay\u001b[0m\u001b[1;33m[\u001b[0m\u001b[1;36m4\u001b[0m\u001b[1;33m:\u001b[0m\u001b[1;36m5\u001b[0m\u001b[1;33m]\u001b[0m\u001b[1;33m\u001b[0m\u001b[0m\n\u001b[0;32m      5\u001b[0m     \u001b[0mdate_year\u001b[0m\u001b[1;33m=\u001b[0m\u001b[0muser_BirthDay\u001b[0m\u001b[1;33m[\u001b[0m\u001b[1;33m-\u001b[0m\u001b[1;36m4\u001b[0m\u001b[1;33m:\u001b[0m\u001b[1;33m]\u001b[0m\u001b[1;33m\u001b[0m\u001b[0m\n\u001b[1;32m----> 6\u001b[1;33m     \u001b[0mprint\u001b[0m\u001b[1;33m(\u001b[0m\u001b[0mdate_day\u001b[0m\u001b[1;33m+\u001b[0m\u001b[1;36m12\u001b[0m\u001b[1;33m)\u001b[0m\u001b[1;33m\u001b[0m\u001b[0m\n\u001b[0m\u001b[0;32m      7\u001b[0m     \u001b[0mprint\u001b[0m\u001b[1;33m(\u001b[0m\u001b[0mdate_month\u001b[0m\u001b[1;33m)\u001b[0m\u001b[1;33m\u001b[0m\u001b[0m\n\u001b[0;32m      8\u001b[0m     \u001b[0mprint\u001b[0m\u001b[1;33m(\u001b[0m\u001b[0mdate_year\u001b[0m\u001b[1;33m)\u001b[0m\u001b[1;33m\u001b[0m\u001b[0m\n",
      "\u001b[1;31mTypeError\u001b[0m: must be str, not int"
     ]
    }
   ],
   "source": [
    "dateform()"
   ]
  },
  {
   "cell_type": "code",
   "execution_count": null,
   "metadata": {},
   "outputs": [],
   "source": []
  }
 ],
 "metadata": {
  "kernelspec": {
   "display_name": "Python 3",
   "language": "python",
   "name": "python3"
  },
  "language_info": {
   "codemirror_mode": {
    "name": "ipython",
    "version": 3
   },
   "file_extension": ".py",
   "mimetype": "text/x-python",
   "name": "python",
   "nbconvert_exporter": "python",
   "pygments_lexer": "ipython3",
   "version": "3.6.5"
  }
 },
 "nbformat": 4,
 "nbformat_minor": 2
}
