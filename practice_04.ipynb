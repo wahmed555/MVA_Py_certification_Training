{
 "cells": [
  {
   "cell_type": "markdown",
   "metadata": {},
   "source": [
    "## Modulus"
   ]
  },
  {
   "cell_type": "code",
   "execution_count": 1,
   "metadata": {},
   "outputs": [
    {
     "data": {
      "text/plain": [
       "896"
      ]
     },
     "execution_count": 1,
     "metadata": {},
     "output_type": "execute_result"
    }
   ],
   "source": [
    "7896%1000"
   ]
  },
  {
   "cell_type": "code",
   "execution_count": 2,
   "metadata": {},
   "outputs": [
    {
     "data": {
      "text/plain": [
       "96"
      ]
     },
     "execution_count": 2,
     "metadata": {},
     "output_type": "execute_result"
    }
   ],
   "source": [
    "1896%100"
   ]
  },
  {
   "cell_type": "markdown",
   "metadata": {},
   "source": [
    "### Formating decimal "
   ]
  },
  {
   "cell_type": "code",
   "execution_count": 11,
   "metadata": {},
   "outputs": [
    {
     "name": "stdout",
     "output_type": "stream",
     "text": [
      "my fav number is 000043 \n"
     ]
    }
   ],
   "source": [
    "print (\"my fav number is %06d \"  %43)"
   ]
  },
  {
   "cell_type": "markdown",
   "metadata": {},
   "source": [
    "### same with dot format "
   ]
  },
  {
   "cell_type": "code",
   "execution_count": 22,
   "metadata": {},
   "outputs": [
    {
     "name": "stdout",
     "output_type": "stream",
     "text": [
      "i have 43 cats \n",
      "i have  43 cats \n",
      "i have 043 cats \n",
      "i have 43.000000 cats \n",
      "i have 43.000000 cats \n",
      "i have 43.00 cats \n"
     ]
    }
   ],
   "source": [
    "print (\"i have {0:d} cats \" .format(43))\n",
    "print (\"i have {0:3d} cats \" .format(43))\n",
    "print (\"i have {0:03d} cats \" .format(43))\n",
    "print (\"i have {0:03f} cats \" .format(43))\n",
    "print (\"i have {0:3f} cats \" .format(43))\n",
    "print (\"i have {0:.2f} cats \" .format(43))"
   ]
  },
  {
   "cell_type": "code",
   "execution_count": 33,
   "metadata": {},
   "outputs": [
    {
     "name": "stdout",
     "output_type": "stream",
     "text": [
      "i have three values first is 43, second is  56.70 , third is my cats name Catoolo  \n"
     ]
    }
   ],
   "source": [
    "print (\"i have three values first is {0:d}, second is  {1:.2f} , third is my cats name {2:8s} \" .format(43,56.7,\"Catoolo\"))"
   ]
  },
  {
   "cell_type": "markdown",
   "metadata": {},
   "source": [
    "### Type casting"
   ]
  },
  {
   "cell_type": "code",
   "execution_count": 2,
   "metadata": {},
   "outputs": [
    {
     "name": "stdout",
     "output_type": "stream",
     "text": [
      "Enter your salary500\n",
      "Enter the bonus78\n",
      "578.0\n"
     ]
    }
   ],
   "source": [
    "salary=input(\"Enter your salary\")\n",
    "Bonus=input(\"Enter the bonus\")\n",
    "result=float(salary)+float(Bonus)\n",
    "print(str(result) )"
   ]
  },
  {
   "attachments": {},
   "cell_type": "markdown",
   "metadata": {
    "collapsed": true
   },
   "source": [
    "## Your Challenge – create a loan calculator\n",
    "\n",
    "Have the user enter the cost of the loan, the interest rate, \n",
    "\n",
    "and the number of years for the loan\n",
    "\n",
    "Calculate monthly payments with the following formula\n",
    "\n",
    "M = L[i(1+i)n] / [(1+i)n-1]\n",
    "\n",
    "M = monthly payment\n",
    "\n",
    "L = Loan amount \n",
    "\n",
    "i = interest rate (for an interest rate of 5%, i = 0.05)\n",
    "\n",
    "n = number of payments\n"
   ]
  },
  {
   "cell_type": "code",
   "execution_count": 15,
   "metadata": {},
   "outputs": [
    {
     "name": "stdout",
     "output_type": "stream",
     "text": [
      "Enter the Loan amount 10000\n",
      "intrest rate :5\n",
      " Enter number of Payments :10\n",
      "Montly payment\n",
      "55555.555555555555\n"
     ]
    }
   ],
   "source": [
    "L=float(input(\"Enter the Loan amount \"))\n",
    "i=float(input(\"intrest rate :\"))\n",
    "n=float(input(\" Enter number of Payments :\"))\n",
    "M=L*(i*(1+i)*n)/((1+i)*(n-1))\n",
    "print(\"Montly payment\")\n",
    "print(str(M))"
   ]
  },
  {
   "cell_type": "code",
   "execution_count": 16,
   "metadata": {},
   "outputs": [
    {
     "name": "stdout",
     "output_type": "stream",
     "text": [
      "Enter the Loan amount 10000\n",
      "intrest rate :5\n",
      " Enter number of Payments :10\n",
      "5.0\n",
      "Montly payment\n",
      "55555.555555555555\n"
     ]
    }
   ],
   "source": [
    "L=input(\"Enter the Loan amount \")\n",
    "L=float(L)\n",
    "i=input(\"intrest rate :\")\n",
    "i=float(i)\n",
    "n=input(\" Enter number of Payments :\")\n",
    "n=float(n)\n",
    "print(i)\n",
    "M=L*(i*(1+i)*n) /((1+i)*(n-1))\n",
    "print(\"Montly payment\")\n",
    "print(M)"
   ]
  },
  {
   "cell_type": "code",
   "execution_count": null,
   "metadata": {
    "collapsed": true
   },
   "outputs": [],
   "source": []
  },
  {
   "cell_type": "code",
   "execution_count": 18,
   "metadata": {},
   "outputs": [
    {
     "name": "stdout",
     "output_type": "stream",
     "text": [
      "i like ranvbow  who does not like colors  Every ones is happy when they see rainbow\n"
     ]
    }
   ],
   "source": [
    "print(\"i like ranvbow \" + \\\n",
    "     \" who does not like colors \" +\\\n",
    "     \" Every ones is happy when they see rainbow\")"
   ]
  },
  {
   "cell_type": "code",
   "execution_count": null,
   "metadata": {
    "collapsed": true
   },
   "outputs": [],
   "source": []
  }
 ],
 "metadata": {
  "kernelspec": {
   "display_name": "Python 3",
   "language": "python",
   "name": "python3"
  },
  "language_info": {
   "codemirror_mode": {
    "name": "ipython",
    "version": 3
   },
   "file_extension": ".py",
   "mimetype": "text/x-python",
   "name": "python",
   "nbconvert_exporter": "python",
   "pygments_lexer": "ipython3",
   "version": "3.6.3"
  }
 },
 "nbformat": 4,
 "nbformat_minor": 2
}
