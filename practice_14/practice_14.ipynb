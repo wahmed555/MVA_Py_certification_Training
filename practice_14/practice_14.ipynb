{
 "cells": [
  {
   "cell_type": "markdown",
   "metadata": {},
   "source": [
    "## 1. ZeroDivision Error "
   ]
  },
  {
   "cell_type": "code",
   "execution_count": 1,
   "metadata": {},
   "outputs": [
    {
     "name": "stdout",
     "output_type": "stream",
     "text": [
      "Enter the first number:4\n",
      "Enter the second number0\n",
      "Hello guddi guy\n",
      "Some thing went wrong\n"
     ]
    }
   ],
   "source": [
    "n1=float(input(\"Enter the first number:\"))\n",
    "n2=float(input(\"Enter the second number\"))\n",
    "\n",
    "try:\n",
    "    print('Hello guddi guy')\n",
    "    result=n1/n2\n",
    "    print(result)\n",
    "    \n",
    "except:\n",
    "    print(\"Some thing went wrong\")"
   ]
  },
  {
   "cell_type": "markdown",
   "metadata": {},
   "source": [
    "## 2. Error Displaying using sys.exc_info()[0]"
   ]
  },
  {
   "cell_type": "code",
   "execution_count": 2,
   "metadata": {},
   "outputs": [
    {
     "name": "stdout",
     "output_type": "stream",
     "text": [
      "Enter the first number:6\n",
      "Enter the second number0\n",
      "Hello guddi guy\n",
      "Some thing went wrong\n",
      "<class 'ZeroDivisionError'>\n"
     ]
    }
   ],
   "source": [
    "import sys\n",
    "n1=float(input(\"Enter the first number:\"))\n",
    "n2=float(input(\"Enter the second number\"))\n",
    "\n",
    "try:\n",
    "    print('Hello guddi guy')\n",
    "    result=n1/n2\n",
    "    print(result)\n",
    "    \n",
    "except:\n",
    "    error=sys.exc_info()[0]\n",
    "    print(\"Some thing went wrong\")\n",
    "    print(error)"
   ]
  },
  {
   "cell_type": "markdown",
   "metadata": {},
   "source": [
    "### 3. finally in error handling"
   ]
  },
  {
   "cell_type": "code",
   "execution_count": 5,
   "metadata": {},
   "outputs": [
    {
     "name": "stdout",
     "output_type": "stream",
     "text": [
      "Enter the first number:9\n",
      "Enter the second number0\n",
      "Hello guddi guy\n",
      "Some thing went wrong\n",
      "<class 'ZeroDivisionError'>\n",
      "This message will always run weather or not error occurs  things like closing a file  or closing a database  even  when error occurs you have to do these essential stuff\n"
     ]
    }
   ],
   "source": [
    "import sys\n",
    "n1=float(input(\"Enter the first number:\"))\n",
    "n2=float(input(\"Enter the second number\"))\n",
    "\n",
    "try:\n",
    "    print('Hello guddi guy')\n",
    "    result=n1/n2\n",
    "    print(result)\n",
    "    \n",
    "except:\n",
    "    error=sys.exc_info()[0]\n",
    "    print(\"Some thing went wrong\")\n",
    "    print(error)\n",
    "finally:\n",
    "    print(\"This message will always run weather or not error occurs  things like closing a file  or closing a database  even  when error occurs you have to do these essential stuff\")"
   ]
  },
  {
   "cell_type": "markdown",
   "metadata": {},
   "source": [
    "### 4. specify error/customizing except for a particular type of error\n",
    "#### once you determine the error using sys.exc_info()[0]  you cstomize except block"
   ]
  },
  {
   "cell_type": "code",
   "execution_count": 6,
   "metadata": {},
   "outputs": [
    {
     "name": "stdout",
     "output_type": "stream",
     "text": [
      "Enter the first number:8\n",
      "Enter the second number0\n",
      "Hello guddi guy\n",
      "The answere is infinity\n"
     ]
    }
   ],
   "source": [
    "import sys\n",
    "n1=float(input(\"Enter the first number:\"))\n",
    "n2=float(input(\"Enter the second number\"))\n",
    "\n",
    "try:\n",
    "    print('Hello guddi guy')\n",
    "    result=n1/n2\n",
    "    print(result)\n",
    "    \n",
    "except ZeroDivisionError :\n",
    "    \n",
    "    print(\"The answere is infinity\")\n",
    "    "
   ]
  },
  {
   "cell_type": "markdown",
   "metadata": {},
   "source": [
    "### Doube except: Adding a generic error along with specific error"
   ]
  },
  {
   "cell_type": "code",
   "execution_count": 10,
   "metadata": {},
   "outputs": [
    {
     "name": "stdout",
     "output_type": "stream",
     "text": [
      "Enter the first number:2\n",
      "Enter the second number9\n",
      "Hello guddi guy\n",
      "0.2222222222222222\n"
     ]
    }
   ],
   "source": [
    "import sys\n",
    "n1=float(input(\"Enter the first number:\"))\n",
    "n2=float(input(\"Enter the second number\"))\n",
    "\n",
    "try:\n",
    "    print('Hello guddi guy')\n",
    "    result=n1/n2\n",
    "    print(result)\n",
    "    \n",
    "except ZeroDivisionError :\n",
    "    print(\"The answere is infinity\")\n",
    "\n",
    "except:\n",
    "    error=sys.exc_info()[0]\n",
    "    print(\"Some thing went wrong genric excpt called for error:\")\n",
    "    print(error)"
   ]
  },
  {
   "cell_type": "markdown",
   "metadata": {},
   "source": [
    "###  how to force programm to exit if error occurs and i don't want to continue\n",
    "## sys.exit()"
   ]
  },
  {
   "cell_type": "code",
   "execution_count": 14,
   "metadata": {},
   "outputs": [
    {
     "name": "stdout",
     "output_type": "stream",
     "text": [
      "Enter the first number:3\n",
      "Enter the second number0\n",
      "Hello guddi guy\n",
      "The answere is infinity\n"
     ]
    },
    {
     "ename": "SystemExit",
     "evalue": "",
     "output_type": "error",
     "traceback": [
      "An exception has occurred, use %tb to see the full traceback.\n",
      "\u001b[1;31mSystemExit\u001b[0m\n"
     ]
    },
    {
     "name": "stderr",
     "output_type": "stream",
     "text": [
      "C:\\Users\\wlaik\\Anaconda3\\lib\\site-packages\\IPython\\core\\interactiveshell.py:2870: UserWarning: To exit: use 'exit', 'quit', or Ctrl-D.\n",
      "  warn(\"To exit: use 'exit', 'quit', or Ctrl-D.\", stacklevel=1)\n"
     ]
    }
   ],
   "source": [
    "import sys\n",
    "n1=float(input(\"Enter the first number:\"))\n",
    "n2=float(input(\"Enter the second number\"))\n",
    "\n",
    "try:\n",
    "    print('Hello guddi guy')\n",
    "    result=n1/n2\n",
    "    print(result)\n",
    "    \n",
    "except ZeroDivisionError :\n",
    "    print(\"The answere is infinity\")\n",
    "    sys.exit()\n",
    "    \n",
    "print(\"this message only displays if error  does'nt occurs\")"
   ]
  },
  {
   "cell_type": "markdown",
   "metadata": {},
   "source": [
    "### using flags and boolean variable to control what happen after an error"
   ]
  },
  {
   "cell_type": "code",
   "execution_count": 15,
   "metadata": {},
   "outputs": [
    {
     "name": "stdout",
     "output_type": "stream",
     "text": [
      "Enter the first number:3\n",
      "Enter the second number0\n",
      "Hello guddi guy\n",
      "The answere is infinity\n"
     ]
    }
   ],
   "source": [
    "import sys\n",
    "n1=float(input(\"Enter the first number:\"))\n",
    "n2=float(input(\"Enter the second number\"))\n",
    "\n",
    "try:\n",
    "    print('Hello guddi guy')\n",
    "    result=n1/n2\n",
    "    print(result)\n",
    "    errorflag=False\n",
    "except ZeroDivisionError :\n",
    "    print(\"The answere is infinity\")\n",
    "    errorflag=True\n",
    "\n",
    "if not errorflag:\n",
    "    print(\"this message only displays if there is no error\")"
   ]
  },
  {
   "cell_type": "markdown",
   "metadata": {},
   "source": [
    "## challenge"
   ]
  },
  {
   "cell_type": "code",
   "execution_count": 34,
   "metadata": {},
   "outputs": [
    {
     "name": "stdout",
     "output_type": "stream",
     "text": [
      "Enter the file name along with extensionrrttr\n",
      "File not found\n"
     ]
    }
   ],
   "source": [
    "filename=input(\"Enter the file name along with extension\")\n",
    "try :\n",
    "    with open (filename,writeMode) as my_obj:\n",
    "        all1=my_obj.read()\n",
    "\n",
    "        print(all1)\n",
    "except FileNotFoundError:\n",
    "    print(\"File not found\")\n",
    "    \n",
    "except:\n",
    "    error=sys.exc_info()[0]\n",
    "    print(error)"
   ]
  },
  {
   "cell_type": "code",
   "execution_count": null,
   "metadata": {
    "collapsed": true
   },
   "outputs": [],
   "source": []
  },
  {
   "cell_type": "code",
   "execution_count": null,
   "metadata": {
    "collapsed": true
   },
   "outputs": [],
   "source": []
  },
  {
   "cell_type": "code",
   "execution_count": null,
   "metadata": {
    "collapsed": true
   },
   "outputs": [],
   "source": []
  }
 ],
 "metadata": {
  "kernelspec": {
   "display_name": "Python 3",
   "language": "python",
   "name": "python3"
  },
  "language_info": {
   "codemirror_mode": {
    "name": "ipython",
    "version": 3
   },
   "file_extension": ".py",
   "mimetype": "text/x-python",
   "name": "python",
   "nbconvert_exporter": "python",
   "pygments_lexer": "ipython3",
   "version": "3.6.3"
  }
 },
 "nbformat": 4,
 "nbformat_minor": 2
}
