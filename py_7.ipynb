{
 "cells": [
  {
   "attachments": {},
   "cell_type": "markdown",
   "metadata": {},
   "source": [
    "## Challenge 7\n",
    "\n",
    "Calculate the total to charge for an order from an online store in Canada\n",
    "\n",
    "Ask user what country they are from and their order total\n",
    "\n",
    "If the user is from Canada, ask which province\n",
    "\n",
    "If the order is from outside Canada do not charge any taxes\n",
    "\n",
    "If the order was placed in Canada calculate tax based on the province\n",
    "\n",
    "Alberta charge .05% General sales Tax (GST)\n",
    "\n",
    "Ontario, New Brunswick, Nova Scotia charge .13% Harmonized sales tax\n",
    "\n",
    "All other provinces charge .06% provincial sales tax + .05% GST tax\n",
    "\n",
    "Tell the user the total with taxes for their order\n"
   ]
  },
  {
   "cell_type": "code",
   "execution_count": 10,
   "metadata": {},
   "outputs": [
    {
     "name": "stdout",
     "output_type": "stream",
     "text": [
      "Enter the country : canada\n",
      "Enter the provinceontario\n",
      "Harmonized Sales Tax\n",
      "your \n",
      " \t GST= 0.001300 $ \n",
      " \t shipping =0.000000 $ \n",
      " \t price =100.000000 $\n",
      " \n",
      " You Total Bill is  100.0013\n"
     ]
    }
   ],
   "source": [
    "country=(input(\"Enter the country : \").upper())\n",
    "# province=(input(\"Enter the province\").upper())\n",
    "price=100\n",
    "shipping=0\n",
    "def billing(tax,shipping,price):\n",
    "    print(\"your \\n \\t GST= %f $ \\n \\t shipping =%f $ \\n \\t price =%f $\" %(tax,shipping,price))\n",
    "    print(\" \\n You Total Bill is \" ,(tax+shipping+price))\n",
    "\n",
    "if (country=='CANADA'):\n",
    "    cCanada=True\n",
    "elif country=='USA':\n",
    "    uUSA=True\n",
    "else:\n",
    "    outsideCanada=True\n",
    "    cCanada=False\n",
    "    uUSA=False\n",
    "    \n",
    "if cCanada:\n",
    "    province=(input(\"Enter the province\").upper())\n",
    "    if province=='ALBERTA':\n",
    "        GST=0.05/100\n",
    "        tax=GST\n",
    "        billing(tax,shipping,price)\n",
    "        \n",
    "    elif province== \"ONTARIO\" or \"NEW BRUNSWICK\" or \"NOVA SCOTIA\":\n",
    "        HST=.13/100\n",
    "        tax=HST\n",
    "        print(\"Harmonized Sales Tax\")\n",
    "        billing(tax,shipping,price)\n",
    "        \n",
    "    else: \n",
    "        GST=0.05/100\n",
    "        PST=0.06/100\n",
    "        tax=GST+PST\n",
    "        billing(tax,shipping,price)\n",
    "elif uUSA:\n",
    "    GST=0\n",
    "    shipping=10\n",
    "    tax=GST\n",
    "    billing(tax,shipping,price)"
   ]
  },
  {
   "cell_type": "code",
   "execution_count": null,
   "metadata": {
    "collapsed": true
   },
   "outputs": [],
   "source": []
  }
 ],
 "metadata": {
  "kernelspec": {
   "display_name": "Python 3",
   "language": "python",
   "name": "python3"
  },
  "language_info": {
   "codemirror_mode": {
    "name": "ipython",
    "version": 3
   },
   "file_extension": ".py",
   "mimetype": "text/x-python",
   "name": "python",
   "nbconvert_exporter": "python",
   "pygments_lexer": "ipython3",
   "version": "3.6.3"
  }
 },
 "nbformat": 4,
 "nbformat_minor": 2
}
