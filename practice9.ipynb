{
 "cells": [
  {
   "cell_type": "code",
   "execution_count": null,
   "metadata": {},
   "outputs": [],
   "source": [
    "import turtle\n",
    "l=4\n",
    "\n",
    "i=0\n",
    "while(l != 0):\n",
    "    pen=input(\"enter the pen color\")\n",
    "    l=int(input(\"Enter the length of line\"))\n",
    "    ang=int(input(\"Enter the angle of turn\"))\n",
    "    s=int(input(\"Enter the no=umer of sides of shape polygon\"))\n",
    "    while(i<=s):\n",
    "        turtle.color(pen)\n",
    "        turtle.forward(l)\n",
    "        turtle.left(ang)\n",
    "        i+=1\n",
    "    "
   ]
  },
  {
   "cell_type": "code",
   "execution_count": null,
   "metadata": {
    "collapsed": true
   },
   "outputs": [],
   "source": []
  }
 ],
 "metadata": {
  "kernelspec": {
   "display_name": "Python 3",
   "language": "python",
   "name": "python3"
  },
  "language_info": {
   "codemirror_mode": {
    "name": "ipython",
    "version": 3
   },
   "file_extension": ".py",
   "mimetype": "text/x-python",
   "name": "python",
   "nbconvert_exporter": "python",
   "pygments_lexer": "ipython3",
   "version": "3.6.3"
  }
 },
 "nbformat": 4,
 "nbformat_minor": 2
}
