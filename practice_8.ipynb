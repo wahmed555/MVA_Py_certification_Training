{
 "cells": [
  {
   "cell_type": "code",
   "execution_count": 3,
   "metadata": {},
   "outputs": [],
   "source": [
    "import turtle\n",
    "turtle.forward(100)\n",
    "turtle.right(90)\n",
    "turtle.forward(100)"
   ]
  },
  {
   "cell_type": "code",
   "execution_count": null,
   "metadata": {
    "collapsed": true
   },
   "outputs": [],
   "source": []
  },
  {
   "cell_type": "code",
   "execution_count": 7,
   "metadata": {},
   "outputs": [],
   "source": [
    "import turtle\n",
    "\n",
    "for i in range(4):\n",
    "    turtle.forward(100)\n",
    "    turtle.right(360/5)\n",
    "    for i in range(4):\n",
    "        turtle.forward(50)\n",
    "        turtle.right(360/5)\n"
   ]
  },
  {
   "cell_type": "code",
   "execution_count": 6,
   "metadata": {
    "collapsed": true
   },
   "outputs": [],
   "source": [
    "import turtle\n",
    "\n",
    "for i in range(4):\n",
    "    turtle.forward(100)\n",
    "    turtle.right(360/5)"
   ]
  },
  {
   "cell_type": "code",
   "execution_count": null,
   "metadata": {
    "collapsed": true
   },
   "outputs": [],
   "source": []
  },
  {
   "cell_type": "code",
   "execution_count": 10,
   "metadata": {},
   "outputs": [
    {
     "name": "stdout",
     "output_type": "stream",
     "text": [
      "1\n",
      "1\n",
      "4\n",
      "7\n",
      "11\n",
      "4\n",
      "1\n",
      "4\n",
      "7\n",
      "11\n",
      "7\n",
      "1\n",
      "4\n",
      "7\n",
      "11\n",
      "11\n",
      "1\n",
      "4\n",
      "7\n",
      "11\n"
     ]
    }
   ],
   "source": [
    "import turtle\n",
    "\n",
    "for i in [1,4,7,11]:\n",
    "    print(i)\n",
    "\n",
    "    for i in [1,4,7,11]:\n",
    "        print(i)"
   ]
  },
  {
   "cell_type": "markdown",
   "metadata": {},
   "source": [
    "## challenge 8"
   ]
  },
  {
   "cell_type": "code",
   "execution_count": 11,
   "metadata": {
    "collapsed": true
   },
   "outputs": [],
   "source": [
    "import turtle\n",
    "\n",
    "for i in range(8):\n",
    "    turtle.forward(100)\n",
    "    turtle.right(360/8)\n",
    "    for i in range(8):\n",
    "        turtle.forward(50)\n",
    "        turtle.right(360/8)"
   ]
  },
  {
   "cell_type": "code",
   "execution_count": 13,
   "metadata": {},
   "outputs": [
    {
     "name": "stdout",
     "output_type": "stream",
     "text": [
      "Enter the number of sides 9\n"
     ]
    }
   ],
   "source": [
    "# B\n",
    "\n",
    "import turtle\n",
    "k=int(input(\"Enter the number of sides \"))\n",
    "for i in range(k):\n",
    "    turtle.forward(100)\n",
    "    turtle.right(360/k)\n",
    "    for i in range(k):\n",
    "        turtle.forward(50)\n",
    "        turtle.right(360/k)"
   ]
  },
  {
   "cell_type": "code",
   "execution_count": null,
   "metadata": {
    "collapsed": true
   },
   "outputs": [],
   "source": [
    "# C\n",
    "\n",
    "import turtle\n",
    "k=int(input(\"Enter the number of sides \"))\n",
    "for i in range(k):\n",
    "    turtle.forward(100)\n",
    "    turtle.right(360/k)\n",
    "    for i in range(k):\n",
    "        turtle.forward(50)\n",
    "        turtle.right(360/k)"
   ]
  }
 ],
 "metadata": {
  "kernelspec": {
   "display_name": "Python 3",
   "language": "python",
   "name": "python3"
  },
  "language_info": {
   "codemirror_mode": {
    "name": "ipython",
    "version": 3
   },
   "file_extension": ".py",
   "mimetype": "text/x-python",
   "name": "python",
   "nbconvert_exporter": "python",
   "pygments_lexer": "ipython3",
   "version": "3.6.3"
  }
 },
 "nbformat": 4,
 "nbformat_minor": 2
}
