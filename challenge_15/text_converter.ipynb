{
 "cells": [
  {
   "cell_type": "code",
   "execution_count": 56,
   "metadata": {},
   "outputs": [],
   "source": []
  },
  {
   "cell_type": "code",
   "execution_count": null,
   "metadata": {},
   "outputs": [],
   "source": []
  },
  {
   "cell_type": "code",
   "execution_count": null,
   "metadata": {},
   "outputs": [],
   "source": [
    "mss=[['LOL','laughing out loud'],\n",
    "     ['ROFL','Rolling on Floor Laughing']]"
   ]
  },
  {
   "cell_type": "code",
   "execution_count": 131,
   "metadata": {},
   "outputs": [],
   "source": [
    "k=\"So funny LOL\"\n"
   ]
  },
  {
   "cell_type": "code",
   "execution_count": 132,
   "metadata": {},
   "outputs": [],
   "source": [
    "ls=k.split()"
   ]
  },
  {
   "cell_type": "code",
   "execution_count": 133,
   "metadata": {},
   "outputs": [
    {
     "data": {
      "text/plain": [
       "['So', 'funny', 'LOL']"
      ]
     },
     "execution_count": 133,
     "metadata": {},
     "output_type": "execute_result"
    }
   ],
   "source": [
    "ls"
   ]
  },
  {
   "cell_type": "code",
   "execution_count": 148,
   "metadata": {},
   "outputs": [
    {
     "name": "stdout",
     "output_type": "stream",
     "text": [
      " \n",
      "\n",
      "match not found\n",
      "So is not equal to LOL\n",
      " \n",
      "\n",
      "match not found\n",
      "So is not equal to laughing out loud\n",
      " \n",
      "\n",
      "match not found\n",
      "So is not equal to ROFL\n",
      " \n",
      "\n",
      "match not found\n",
      "So is not equal to Rolling on Floor Laughing\n",
      " \n",
      "\n",
      "match not found\n",
      "funny is not equal to LOL\n",
      " \n",
      "\n",
      "match not found\n",
      "funny is not equal to laughing out loud\n",
      " \n",
      "\n",
      "match not found\n",
      "funny is not equal to ROFL\n",
      " \n",
      "\n",
      "match not found\n",
      "funny is not equal to Rolling on Floor Laughing\n",
      " \n",
      "\n",
      "match not found\n",
      "laughing out loud is not equal to LOL\n",
      "\n",
      " Match Found WOW!\n",
      "laughing out loud is a soruce match\n",
      "laughing out loud is a  replacement match\n",
      "2\n",
      "\n",
      " In given sentence with acronym \" laughing out loud \" at location 2\n",
      "\n",
      " The acronym \" laughing out loud \" at location 1\n",
      "1\n",
      "\n",
      " already transformed\n",
      " \n",
      "\n",
      "match not found\n",
      "laughing out loud is not equal to ROFL\n",
      " \n",
      "\n",
      "match not found\n",
      "laughing out loud is not equal to Rolling on Floor Laughing\n",
      "['So', 'funny', 'laughing out loud']\n"
     ]
    }
   ],
   "source": [
    "# first looping through words of input sentence \n",
    "for l in ls:\n",
    "#     print(l)\n",
    "    for ms in mss:\n",
    "#         print(ms[1])\n",
    "        for m in ms:\n",
    "#             print(m)\n",
    "            \n",
    "            if l==m:\n",
    "                Acronymfound=True\n",
    "                print(\"\\n Match Found WOW!\")\n",
    "                print(l, \"is a soruce match\")\n",
    "                print(m, \"is a  replacement match\")\n",
    "                print(ls.index(l))\n",
    "                print(\"\\n In given sentence with acronym \\\" \" + ls[ls.index(l)]  + \" \\\" at location \" + str(  ls.index(l)) )\n",
    "                \n",
    "                print(\"\\n The acronym \\\" \" + ms[ms.index(m)]  + \" \\\" at location \" + str(  ms.index(m)) )\n",
    "                print(ms.index(m))\n",
    "                if (ms.index(m)==1):\n",
    "                    print (\"\\n already transformed\")\n",
    "                    break\n",
    "                    \n",
    "                else:    \n",
    "                    print(ms[ms.index(m)+1])\n",
    "\n",
    "                    print(type(ms[ms.index(m)+1]))\n",
    "    #                 ls[ls.index(l)]=ms[ms.index(m)+1]\n",
    "                    (ls[ls.index(l)])=(ms[ms.index(m)+1])\n",
    "\n",
    "                    print(l) \n",
    "                    print(m)\n",
    "            \n",
    "            else:\n",
    "                print(\" \\n\\nmatch not found\")\n",
    "                print( l + \" is not equal to \" + m)\n",
    "print(ls)"
   ]
  },
  {
   "cell_type": "code",
   "execution_count": null,
   "metadata": {},
   "outputs": [],
   "source": []
  },
  {
   "cell_type": "code",
   "execution_count": null,
   "metadata": {},
   "outputs": [],
   "source": []
  },
  {
   "cell_type": "code",
   "execution_count": null,
   "metadata": {},
   "outputs": [],
   "source": []
  },
  {
   "cell_type": "code",
   "execution_count": 152,
   "metadata": {},
   "outputs": [
    {
     "name": "stdout",
     "output_type": "stream",
     "text": [
      "['So', 'funny', 'laughing out loud']\n",
      "So funny laughing out loud\n"
     ]
    }
   ],
   "source": [
    "#  input is list ls\n",
    "\n",
    "# first looping through words of input sentence \n",
    "for l in ls:\n",
    "#     print(l)\n",
    "    for ms in mss:\n",
    "#         print(ms[1])\n",
    "        for m in ms:\n",
    "#             print(m)\n",
    "            \n",
    "            if l==m:\n",
    "                Acronymfound=True\n",
    "                print(\"\\n Match Found WOW!\")\n",
    "                print(l, \"is a soruce match\")\n",
    "                print(m, \"is a  replacement match\")\n",
    "                print(ls.index(l))\n",
    "                print(\"\\n In given sentence with acronym \\\" \" + ls[ls.index(l)]  + \" \\\" at location \" + str(  ls.index(l)) )\n",
    "                \n",
    "                print(\"\\n The acronym \\\" \" + ms[ms.index(m)]  + \" \\\" at location \" + str(  ms.index(m)) )\n",
    "                print(ms.index(m))\n",
    "                if (ms.index(m)==1):\n",
    "                    print (\"\\n already transformed\")\n",
    "                    break\n",
    "                    \n",
    "                else:    \n",
    "                    print(ms[ms.index(m)+1])\n",
    "\n",
    "                    print(type(ms[ms.index(m)+1]))\n",
    "    #                 ls[ls.index(l)]=ms[ms.index(m)+1]\n",
    "                    (ls[ls.index(l)])=(ms[ms.index(m)+1])\n",
    "\n",
    "                    print(l) \n",
    "                    print(m)\n",
    "            \n",
    "            else:\n",
    "                break\n",
    "                print(\" \\n\\nmatch not found\")\n",
    "                print( l + \" is not equal to \" + m)\n",
    "#                \n",
    "print(ls)\n",
    "\n",
    "outSentence=' '.join(ls)\n",
    "print(outSentence)"
   ]
  },
  {
   "cell_type": "code",
   "execution_count": 151,
   "metadata": {},
   "outputs": [],
   "source": [
    "outSentence=' '.join(ls)"
   ]
  },
  {
   "cell_type": "code",
   "execution_count": 104,
   "metadata": {},
   "outputs": [
    {
     "data": {
      "text/plain": [
       "'So funny laughing out loud'"
      ]
     },
     "execution_count": 104,
     "metadata": {},
     "output_type": "execute_result"
    }
   ],
   "source": [
    "outSentence"
   ]
  },
  {
   "cell_type": "code",
   "execution_count": null,
   "metadata": {},
   "outputs": [],
   "source": []
  },
  {
   "cell_type": "code",
   "execution_count": 101,
   "metadata": {},
   "outputs": [
    {
     "name": "stdout",
     "output_type": "stream",
     "text": [
      " no match found\n"
     ]
    }
   ],
   "source": []
  },
  {
   "cell_type": "code",
   "execution_count": 71,
   "metadata": {},
   "outputs": [],
   "source": [
    "outSentence=' '.join(ls)"
   ]
  },
  {
   "cell_type": "code",
   "execution_count": 72,
   "metadata": {},
   "outputs": [
    {
     "data": {
      "text/plain": [
       "'So funny laughing out loud'"
      ]
     },
     "execution_count": 72,
     "metadata": {},
     "output_type": "execute_result"
    }
   ],
   "source": [
    "outSentence"
   ]
  },
  {
   "cell_type": "code",
   "execution_count": null,
   "metadata": {},
   "outputs": [],
   "source": []
  }
 ],
 "metadata": {
  "kernelspec": {
   "display_name": "Python 3",
   "language": "python",
   "name": "python3"
  },
  "language_info": {
   "codemirror_mode": {
    "name": "ipython",
    "version": 3
   },
   "file_extension": ".py",
   "mimetype": "text/x-python",
   "name": "python",
   "nbconvert_exporter": "python",
   "pygments_lexer": "ipython3",
   "version": "3.6.5"
  }
 },
 "nbformat": 4,
 "nbformat_minor": 2
}
